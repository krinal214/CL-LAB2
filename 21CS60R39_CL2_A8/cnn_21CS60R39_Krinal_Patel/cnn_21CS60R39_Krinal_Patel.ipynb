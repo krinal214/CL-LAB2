{
  "cells": [
    {
      "cell_type": "code",
      "execution_count": 1,
      "metadata": {
        "colab": {
          "base_uri": "https://localhost:8080/"
        },
        "id": "DcGT5Clh6VJJ",
        "outputId": "9b246a92-ace4-45ea-9fcf-2f608c0d77f3"
      },
      "outputs": [
        {
          "name": "stdout",
          "output_type": "stream",
          "text": [
            "Collecting torch-summary\n",
            "  Downloading torch_summary-1.4.5-py3-none-any.whl (16 kB)\n",
            "Installing collected packages: torch-summary\n",
            "Successfully installed torch-summary-1.4.5\n"
          ]
        }
      ],
      "source": [
        "#! pip install torch-summary #for visualizing the CNN"
      ]
    },
    {
      "cell_type": "code",
      "execution_count": 2,
      "metadata": {
        "colab": {
          "base_uri": "https://localhost:8080/"
        },
        "id": "DUN9A0RQyvWy",
        "outputId": "52cfd3ba-10d5-4473-da2e-3401a40c139a"
      },
      "outputs": [
        {
          "name": "stdout",
          "output_type": "stream",
          "text": [
            "--2022-04-05 16:11:02--  https://docs.google.com/uc?export=download&confirm=t&id=1NPMGpcdM9OEiv9j40axB-ikKyz1N38mv\n",
            "Resolving docs.google.com (docs.google.com)... 173.194.215.139, 173.194.215.113, 173.194.215.101, ...\n",
            "Connecting to docs.google.com (docs.google.com)|173.194.215.139|:443... connected.\n",
            "HTTP request sent, awaiting response... 303 See Other\n",
            "Location: https://doc-00-ag-docs.googleusercontent.com/docs/securesc/ha0ro937gcuc7l7deffksulhg5h7mbp1/vdafdgrfkfmf8qksf2ehrl67ossapn5k/1649175000000/06319575137151008904/*/1NPMGpcdM9OEiv9j40axB-ikKyz1N38mv?e=download [following]\n",
            "Warning: wildcards not supported in HTTP.\n",
            "--2022-04-05 16:11:02--  https://doc-00-ag-docs.googleusercontent.com/docs/securesc/ha0ro937gcuc7l7deffksulhg5h7mbp1/vdafdgrfkfmf8qksf2ehrl67ossapn5k/1649175000000/06319575137151008904/*/1NPMGpcdM9OEiv9j40axB-ikKyz1N38mv?e=download\n",
            "Resolving doc-00-ag-docs.googleusercontent.com (doc-00-ag-docs.googleusercontent.com)... 172.217.193.132, 2607:f8b0:400c:c03::84\n",
            "Connecting to doc-00-ag-docs.googleusercontent.com (doc-00-ag-docs.googleusercontent.com)|172.217.193.132|:443... connected.\n",
            "HTTP request sent, awaiting response... 200 OK\n",
            "Length: 312395103 (298M) [application/zip]\n",
            "Saving to: ‘euroSAT_tvt_pkl.zip’\n",
            "\n",
            "euroSAT_tvt_pkl.zip 100%[===================>] 297.92M   212MB/s    in 1.4s    \n",
            "\n",
            "2022-04-05 16:11:03 (212 MB/s) - ‘euroSAT_tvt_pkl.zip’ saved [312395103/312395103]\n",
            "\n"
          ]
        }
      ],
      "source": [
        "#download dataset\n",
        "!wget --load-cookies /tmp/cookies.txt \"https://docs.google.com/uc?export=download&confirm=$(wget --quiet --save-cookies /tmp/cookies.txt --keep-session-cookies --no-check-certificate 'https://docs.google.com/uc?export=download&id=1NPMGpcdM9OEiv9j40axB-ikKyz1N38mv' -O- | sed -rn 's/.*confirm=([0-9A-Za-z_]+).*/\\1\\n/p')&id=1NPMGpcdM9OEiv9j40axB-ikKyz1N38mv\" -O euroSAT_tvt_pkl.zip && rm -rf /tmp/cookies.txt"
      ]
    },
    {
      "cell_type": "code",
      "execution_count": 3,
      "metadata": {
        "colab": {
          "base_uri": "https://localhost:8080/"
        },
        "id": "PJKvQuBe17D0",
        "outputId": "e84a54ca-fc9f-4ee7-f7c2-5428d4f15528"
      },
      "outputs": [
        {
          "name": "stdout",
          "output_type": "stream",
          "text": [
            "Archive:  euroSAT_tvt_pkl.zip\n",
            "  inflating: euroSAT_train_val_test.pkl  \n"
          ]
        }
      ],
      "source": [
        "!unzip euroSAT_tvt_pkl.zip"
      ]
    },
    {
      "cell_type": "code",
      "execution_count": 4,
      "metadata": {
        "id": "BRmkQW1CYZel"
      },
      "outputs": [],
      "source": [
        "from PIL import Image \n",
        "\n",
        "## PyTorch\n",
        "import torch\n",
        "from torch import Tensor\n",
        "import torch.utils.data as data\n",
        "from sklearn.metrics import classification_report\n",
        "import torch.nn as nn\n",
        "import torch.nn.functional as F\n",
        "import torch.optim as optim\n",
        "import pandas as pd\n",
        "import numpy as np\n",
        " \n",
        "# Torchvision\n",
        "import torchvision\n",
        "from torchvision import transforms\n",
        "\n",
        "#from torchsummary import summary"
      ]
    },
    {
      "cell_type": "code",
      "execution_count": 5,
      "metadata": {
        "id": "fdpVVkLKYZen"
      },
      "outputs": [],
      "source": [
        "#setting the seed value\n",
        "torch.manual_seed(39)\n",
        "import random\n",
        "random.seed(39)\n",
        "np.random.seed(39)\n",
        "device = torch.device(\"cuda\" if torch.cuda.is_available() else \"cpu\")"
      ]
    },
    {
      "cell_type": "code",
      "execution_count": 6,
      "metadata": {
        "id": "reozIBKI4YNk"
      },
      "outputs": [],
      "source": [
        "#define the CNN architecture\n",
        "class CNN(nn.Module):\n",
        "\n",
        "    def __init__(self,inp_chan,nclasses):\n",
        "        super().__init__()\n",
        " \n",
        "        \n",
        "        self.layer1 = nn.Sequential(\n",
        "                      nn.Conv2d(inp_chan, 64, kernel_size=3, stride=2, padding=1),\n",
        "                      nn.ReLU(),\n",
        "                      nn.MaxPool2d(kernel_size=2))\n",
        "        \n",
        "        self.layer2 =nn.Sequential(\n",
        "                    nn.Conv2d(64,96, kernel_size=3,padding=1),\n",
        "                    nn.ReLU(),\n",
        "                    nn.MaxPool2d(kernel_size=2))\n",
        "        \n",
        "        self.layer3 = nn.Sequential(\n",
        "                    nn.Conv2d(96,192, kernel_size=3,padding=1),\n",
        "                    nn.ReLU(),\n",
        "                    nn.MaxPool2d(kernel_size=2))\n",
        "        \n",
        "        self.fc1 = nn.Sequential(\n",
        "                   nn.Linear(3072, 1024, bias=True),\n",
        "                   nn.ReLU()\n",
        "                    )\n",
        "        \n",
        "        self.fc2 = nn.Sequential(\n",
        "                   nn.Linear(1024, 512, bias=True),\n",
        "                   nn.ReLU())\n",
        "        \n",
        "        self.fc3 = nn.Linear(512, 10, bias=True)\n",
        "        self.dropout=nn.Dropout(p=0.5)\n",
        "        self.flatten=nn.Flatten()\n",
        "        \n",
        "        \n",
        "\n",
        "    def forward(self, x: Tensor) -> Tensor:\n",
        "        t=self.layer1(x)\n",
        "        t=self.layer2(t)\n",
        "        t=self.layer3(t)\n",
        "        t=self.flatten(t)\n",
        "        t=self.fc1(t)\n",
        "        t=self.dropout(t)\n",
        "        t=self.fc2(t)\n",
        "        t=self.fc3(t)\n",
        "\n",
        "       \n",
        "        return t\n",
        "       "
      ]
    },
    {
      "cell_type": "code",
      "execution_count": 7,
      "metadata": {
        "id": "mvTe7En-c21o"
      },
      "outputs": [],
      "source": [
        "#create instance of CNN model\n",
        "model=CNN(3,10)\n",
        "model=model.to(device)"
      ]
    },
    {
      "cell_type": "code",
      "execution_count": 8,
      "metadata": {
        "colab": {
          "base_uri": "https://localhost:8080/"
        },
        "id": "qL8VacfvDnGW",
        "outputId": "3f97fe31-cd02-4873-eebc-ea0d65d7113c"
      },
      "outputs": [
        {
          "name": "stdout",
          "output_type": "stream",
          "text": [
            "==========================================================================================\n",
            "Layer (type:depth-idx)                   Output Shape              Param #\n",
            "==========================================================================================\n",
            "├─Sequential: 1-1                        [-1, 64, 16, 16]          --\n",
            "|    └─Conv2d: 2-1                       [-1, 64, 32, 32]          1,792\n",
            "|    └─ReLU: 2-2                         [-1, 64, 32, 32]          --\n",
            "|    └─MaxPool2d: 2-3                    [-1, 64, 16, 16]          --\n",
            "├─Sequential: 1-2                        [-1, 96, 8, 8]            --\n",
            "|    └─Conv2d: 2-4                       [-1, 96, 16, 16]          55,392\n",
            "|    └─ReLU: 2-5                         [-1, 96, 16, 16]          --\n",
            "|    └─MaxPool2d: 2-6                    [-1, 96, 8, 8]            --\n",
            "├─Sequential: 1-3                        [-1, 192, 4, 4]           --\n",
            "|    └─Conv2d: 2-7                       [-1, 192, 8, 8]           166,080\n",
            "|    └─ReLU: 2-8                         [-1, 192, 8, 8]           --\n",
            "|    └─MaxPool2d: 2-9                    [-1, 192, 4, 4]           --\n",
            "├─Flatten: 1-4                           [-1, 3072]                --\n",
            "├─Sequential: 1-5                        [-1, 1024]                --\n",
            "|    └─Linear: 2-10                      [-1, 1024]                3,146,752\n",
            "|    └─ReLU: 2-11                        [-1, 1024]                --\n",
            "├─Dropout: 1-6                           [-1, 1024]                --\n",
            "├─Sequential: 1-7                        [-1, 512]                 --\n",
            "|    └─Linear: 2-12                      [-1, 512]                 524,800\n",
            "|    └─ReLU: 2-13                        [-1, 512]                 --\n",
            "├─Linear: 1-8                            [-1, 10]                  5,130\n",
            "==========================================================================================\n",
            "Total params: 3,899,946\n",
            "Trainable params: 3,899,946\n",
            "Non-trainable params: 0\n",
            "Total mult-adds (M): 34.11\n",
            "==========================================================================================\n",
            "Input size (MB): 0.05\n",
            "Forward/backward pass size (MB): 0.79\n",
            "Params size (MB): 14.88\n",
            "Estimated Total Size (MB): 15.72\n",
            "==========================================================================================\n"
          ]
        },
        {
          "data": {
            "text/plain": [
              "==========================================================================================\n",
              "Layer (type:depth-idx)                   Output Shape              Param #\n",
              "==========================================================================================\n",
              "├─Sequential: 1-1                        [-1, 64, 16, 16]          --\n",
              "|    └─Conv2d: 2-1                       [-1, 64, 32, 32]          1,792\n",
              "|    └─ReLU: 2-2                         [-1, 64, 32, 32]          --\n",
              "|    └─MaxPool2d: 2-3                    [-1, 64, 16, 16]          --\n",
              "├─Sequential: 1-2                        [-1, 96, 8, 8]            --\n",
              "|    └─Conv2d: 2-4                       [-1, 96, 16, 16]          55,392\n",
              "|    └─ReLU: 2-5                         [-1, 96, 16, 16]          --\n",
              "|    └─MaxPool2d: 2-6                    [-1, 96, 8, 8]            --\n",
              "├─Sequential: 1-3                        [-1, 192, 4, 4]           --\n",
              "|    └─Conv2d: 2-7                       [-1, 192, 8, 8]           166,080\n",
              "|    └─ReLU: 2-8                         [-1, 192, 8, 8]           --\n",
              "|    └─MaxPool2d: 2-9                    [-1, 192, 4, 4]           --\n",
              "├─Flatten: 1-4                           [-1, 3072]                --\n",
              "├─Sequential: 1-5                        [-1, 1024]                --\n",
              "|    └─Linear: 2-10                      [-1, 1024]                3,146,752\n",
              "|    └─ReLU: 2-11                        [-1, 1024]                --\n",
              "├─Dropout: 1-6                           [-1, 1024]                --\n",
              "├─Sequential: 1-7                        [-1, 512]                 --\n",
              "|    └─Linear: 2-12                      [-1, 512]                 524,800\n",
              "|    └─ReLU: 2-13                        [-1, 512]                 --\n",
              "├─Linear: 1-8                            [-1, 10]                  5,130\n",
              "==========================================================================================\n",
              "Total params: 3,899,946\n",
              "Trainable params: 3,899,946\n",
              "Non-trainable params: 0\n",
              "Total mult-adds (M): 34.11\n",
              "==========================================================================================\n",
              "Input size (MB): 0.05\n",
              "Forward/backward pass size (MB): 0.79\n",
              "Params size (MB): 14.88\n",
              "Estimated Total Size (MB): 15.72\n",
              "=========================================================================================="
            ]
          },
          "execution_count": 8,
          "metadata": {},
          "output_type": "execute_result"
        }
      ],
      "source": [
        "#visualize the model \n",
        "#summary(model,(3,64,64))"
      ]
    },
    {
      "cell_type": "code",
      "execution_count": 9,
      "metadata": {
        "colab": {
          "base_uri": "https://localhost:8080/"
        },
        "id": "rrLFUIL7k45C",
        "outputId": "b246b698-607f-46eb-c8f9-1b74827baefe"
      },
      "outputs": [
        {
          "name": "stdout",
          "output_type": "stream",
          "text": [
            "18792 2808 5400\n",
            "(3, 64, 64) 7\n"
          ]
        }
      ],
      "source": [
        "#split the dataset into train,validation and test dataset\n",
        "import pickle\n",
        "with open(\"euroSAT_train_val_test.pkl\", 'rb') as f:\n",
        "    train_set, val_set, test_set = pickle.load(f)\n",
        "print (len(train_set), len(val_set), len(test_set)) # 18792 2808 5400\n",
        "print (train_set[0][0].shape, train_set[0][1]) # (3, 64, 64) 7"
      ]
    },
    {
      "cell_type": "code",
      "execution_count": 10,
      "metadata": {
        "id": "8fLJ6XyHYZes"
      },
      "outputs": [],
      "source": [
        "NBATCH=64"
      ]
    },
    {
      "cell_type": "code",
      "execution_count": 11,
      "metadata": {
        "colab": {
          "base_uri": "https://localhost:8080/"
        },
        "id": "jIRu3oE_YZet",
        "outputId": "b3c95800-1aac-43d1-f524-0a9f4c7228c8"
      },
      "outputs": [
        {
          "name": "stderr",
          "output_type": "stream",
          "text": [
            "/usr/local/lib/python3.7/dist-packages/torch/utils/data/dataloader.py:481: UserWarning: This DataLoader will create 4 worker processes in total. Our suggested max number of worker in current system is 2, which is smaller than what this DataLoader is going to create. Please be aware that excessive worker creation might get DataLoader running slow or even freeze, lower the worker number to avoid potential slowness/freeze if necessary.\n",
            "  cpuset_checked))\n"
          ]
        }
      ],
      "source": [
        "#convert dataset into pytorch dataloader\n",
        "train_loader = data.DataLoader(train_set, batch_size=NBATCH, shuffle=True, drop_last=True, pin_memory=True, num_workers=4)\n",
        "val_loader = data.DataLoader(val_set, batch_size=NBATCH, shuffle=False, drop_last=False, num_workers=4)\n",
        "test_loader = data.DataLoader(test_set, batch_size=NBATCH, shuffle=False, drop_last=False, num_workers=4)\n",
        "trainSteps = len(train_loader.dataset) // NBATCH\n",
        "valSteps = len(val_loader.dataset) // NBATCH"
      ]
    },
    {
      "cell_type": "code",
      "execution_count": 12,
      "metadata": {
        "id": "3mMpwromYZeu"
      },
      "outputs": [],
      "source": [
        "#define loss function and optimizer \n",
        "criterion = nn.CrossEntropyLoss()\n",
        "\n",
        "optimizer = torch.optim.Adam(model.parameters(),lr=0.0002)"
      ]
    },
    {
      "cell_type": "code",
      "execution_count": 13,
      "metadata": {
        "id": "eVjA63bd6wI8"
      },
      "outputs": [],
      "source": [
        "#define path to store best model\n",
        "import os\n",
        "if not os.path.exists('logs_cnn/'):\n",
        "  os.mkdir('logs_cnn/')\n",
        "model_name='logs_cnn/best_model_cnn.pt'\n"
      ]
    },
    {
      "cell_type": "code",
      "execution_count": 14,
      "metadata": {
        "colab": {
          "base_uri": "https://localhost:8080/"
        },
        "id": "lO2Yl24aCWbT",
        "outputId": "92b92ed5-f3d8-4fc2-ee04-5b2514d4e409"
      },
      "outputs": [
        {
          "name": "stdout",
          "output_type": "stream",
          "text": [
            "Mounted at /content/drive\n"
          ]
        }
      ],
      "source": [
        "'''\n",
        "This code block basically push the model on the google drive.\n",
        "'''\n",
        "#push the model to the directory on google drive, which is publicly visible\n",
        "#from google.colab import drive\n",
        "#drive.mount('/content/drive') \n",
        "\n",
        "#import os\n",
        "#if not os.path.exists('/content/drive/MyDrive/21CS60R39_assignment8/logs_cnn/'):\n",
        "#  os.mkdir('/content/drive/MyDrive/21CS60R39_assignment8/logs_cnn/')\n",
        "#model_name='/content/drive/MyDrive/21CS60R39_assignment8/logs_cnn/best_model_cnn.pt'\n"
      ]
    },
    {
      "cell_type": "code",
      "execution_count": 15,
      "metadata": {
        "id": "_pvjMLnAYZew"
      },
      "outputs": [],
      "source": [
        "train_losses = []\n",
        "val_losses = []\n",
        "train_acc=[]\n",
        "val_acc=[]\n",
        "\n",
        "#define training method with early stopping criterion    \n",
        "def train_model(model, batchsize, patience, epochs,modelname):\n",
        "    best_loss=100000000\n",
        "    counter=0\n",
        "    #model_name='logs_cnn/best_model.pt'\n",
        "    for epoch in range(1, epochs + 1):\n",
        "        totalTrainLoss = 0\n",
        "        totalValLoss = 0\n",
        "        trainCorrect = 0\n",
        "        valCorrect = 0\n",
        "        model.train() \n",
        "        for batch, (data, target) in enumerate(train_loader, 1):\n",
        "            (data, target) = (data.to(device), target.to(device))\n",
        "            optimizer.zero_grad()\n",
        "            output = model(data)\n",
        "            loss = criterion(output, target)\n",
        "            loss.backward()\n",
        "            optimizer.step()\n",
        "            totalTrainLoss += loss\n",
        "            trainCorrect += (output.argmax(1) == target).type(torch.float).sum().item()\n",
        "            \n",
        "\n",
        "        with torch.no_grad():\n",
        "            model.eval() \n",
        "            for data, target in val_loader:\n",
        "                (data, target) = (data.to(device), target.to(device))\n",
        "                output = model(data)\n",
        "                loss = criterion(output, target)\n",
        "                totalValLoss += loss\n",
        "                valCorrect += (output.argmax(1) == target).type(torch.float).sum().item()\n",
        "        \n",
        "        avgTrainLoss = totalTrainLoss / trainSteps\n",
        "        avgValLoss = totalValLoss / valSteps\n",
        "        trainCorrect = trainCorrect / len(train_loader.dataset)\n",
        "        valCorrect = valCorrect / len(val_loader.dataset)\n",
        "        train_losses.append(avgTrainLoss.cpu().detach().numpy())\n",
        "        train_acc.append(trainCorrect)\n",
        "        val_losses.append(avgValLoss.cpu().detach().numpy())\n",
        "        val_acc.append(valCorrect)\n",
        "        \n",
        "        print(\"EPOCH: {}/{}\".format(epoch, n_epochs))\n",
        "        print(\"Train loss: {:.5f}, Train accuracy: {:.5f}\".format(avgTrainLoss, trainCorrect))\n",
        "        print(\"Val loss: {:.5f}, Val accuracy: {:.5f}\\n\".format(avgValLoss, valCorrect))\n",
        "        if avgValLoss < best_loss:\n",
        "            best_loss = avgValLoss\n",
        "            counter = 0\n",
        "            torch.save(model.state_dict(), modelname)\n",
        "            \n",
        "        else:\n",
        "            counter += 1\n",
        "            \n",
        "            if counter> patience :\n",
        "                print(\"Early stopping with minimum validation loss: \", best_loss)\n",
        "                break\n",
        "   \n",
        "    checkpoint = torch.load(modelname)\n",
        "    model.load_state_dict(checkpoint)\n",
        "\n",
        "    return  model"
      ]
    },
    {
      "cell_type": "code",
      "execution_count": 16,
      "metadata": {
        "colab": {
          "base_uri": "https://localhost:8080/"
        },
        "id": "X0gRQMqHYZey",
        "outputId": "b87b4780-92bd-4905-a5c1-e9bc93cec090"
      },
      "outputs": [
        {
          "name": "stderr",
          "output_type": "stream",
          "text": [
            "/usr/local/lib/python3.7/dist-packages/torch/utils/data/dataloader.py:481: UserWarning: This DataLoader will create 4 worker processes in total. Our suggested max number of worker in current system is 2, which is smaller than what this DataLoader is going to create. Please be aware that excessive worker creation might get DataLoader running slow or even freeze, lower the worker number to avoid potential slowness/freeze if necessary.\n",
            "  cpuset_checked))\n"
          ]
        },
        {
          "name": "stdout",
          "output_type": "stream",
          "text": [
            "EPOCH: 1/50\n",
            "Train loss: 1.59560, Train accuracy: 0.35047\n",
            "Val loss: 1.30840, Val accuracy: 0.51246\n",
            "\n",
            "EPOCH: 2/50\n",
            "Train loss: 1.15528, Train accuracy: 0.55391\n",
            "Val loss: 1.00293, Val accuracy: 0.64850\n",
            "\n",
            "EPOCH: 3/50\n",
            "Train loss: 1.00093, Train accuracy: 0.63006\n",
            "Val loss: 0.97015, Val accuracy: 0.65278\n",
            "\n",
            "EPOCH: 4/50\n",
            "Train loss: 0.85021, Train accuracy: 0.68423\n",
            "Val loss: 0.74213, Val accuracy: 0.72578\n",
            "\n",
            "EPOCH: 5/50\n",
            "Train loss: 0.77000, Train accuracy: 0.71637\n",
            "Val loss: 0.71880, Val accuracy: 0.74751\n",
            "\n",
            "EPOCH: 6/50\n",
            "Train loss: 0.71911, Train accuracy: 0.73696\n",
            "Val loss: 0.71960, Val accuracy: 0.74074\n",
            "\n",
            "EPOCH: 7/50\n",
            "Train loss: 0.67437, Train accuracy: 0.75426\n",
            "Val loss: 0.68843, Val accuracy: 0.75712\n",
            "\n",
            "EPOCH: 8/50\n",
            "Train loss: 0.66711, Train accuracy: 0.75415\n",
            "Val loss: 0.63811, Val accuracy: 0.77386\n",
            "\n",
            "EPOCH: 9/50\n",
            "Train loss: 0.62066, Train accuracy: 0.77368\n",
            "Val loss: 0.57801, Val accuracy: 0.80271\n",
            "\n",
            "EPOCH: 10/50\n",
            "Train loss: 0.61121, Train accuracy: 0.77730\n",
            "Val loss: 0.61760, Val accuracy: 0.78098\n",
            "\n",
            "EPOCH: 11/50\n",
            "Train loss: 0.58445, Train accuracy: 0.78768\n",
            "Val loss: 0.60590, Val accuracy: 0.78383\n",
            "\n",
            "EPOCH: 12/50\n",
            "Train loss: 0.58390, Train accuracy: 0.78368\n",
            "Val loss: 0.57934, Val accuracy: 0.79416\n",
            "\n",
            "EPOCH: 13/50\n",
            "Train loss: 0.55050, Train accuracy: 0.80023\n",
            "Val loss: 0.57088, Val accuracy: 0.80840\n",
            "\n",
            "EPOCH: 14/50\n",
            "Train loss: 0.53599, Train accuracy: 0.80316\n",
            "Val loss: 0.56632, Val accuracy: 0.80805\n",
            "\n",
            "EPOCH: 15/50\n",
            "Train loss: 0.51306, Train accuracy: 0.81205\n",
            "Val loss: 0.51594, Val accuracy: 0.81517\n",
            "\n",
            "EPOCH: 16/50\n",
            "Train loss: 0.52991, Train accuracy: 0.80635\n",
            "Val loss: 0.59318, Val accuracy: 0.79024\n",
            "\n",
            "EPOCH: 17/50\n",
            "Train loss: 0.49750, Train accuracy: 0.82062\n",
            "Val loss: 0.50506, Val accuracy: 0.82479\n",
            "\n",
            "EPOCH: 18/50\n",
            "Train loss: 0.46775, Train accuracy: 0.82892\n",
            "Val loss: 0.51635, Val accuracy: 0.82621\n",
            "\n",
            "EPOCH: 19/50\n",
            "Train loss: 0.46985, Train accuracy: 0.82987\n",
            "Val loss: 0.51736, Val accuracy: 0.81802\n",
            "\n",
            "EPOCH: 20/50\n",
            "Train loss: 0.45536, Train accuracy: 0.83317\n",
            "Val loss: 0.48448, Val accuracy: 0.82942\n",
            "\n",
            "EPOCH: 21/50\n",
            "Train loss: 0.42472, Train accuracy: 0.84424\n",
            "Val loss: 0.46807, Val accuracy: 0.84010\n",
            "\n",
            "EPOCH: 22/50\n",
            "Train loss: 0.42247, Train accuracy: 0.84877\n",
            "Val loss: 0.46776, Val accuracy: 0.84615\n",
            "\n",
            "EPOCH: 23/50\n",
            "Train loss: 0.40978, Train accuracy: 0.85212\n",
            "Val loss: 0.46023, Val accuracy: 0.84437\n",
            "\n",
            "EPOCH: 24/50\n",
            "Train loss: 0.38340, Train accuracy: 0.86398\n",
            "Val loss: 0.43048, Val accuracy: 0.85221\n",
            "\n",
            "EPOCH: 25/50\n",
            "Train loss: 0.36614, Train accuracy: 0.86909\n",
            "Val loss: 0.42678, Val accuracy: 0.85755\n",
            "\n",
            "EPOCH: 26/50\n",
            "Train loss: 0.35808, Train accuracy: 0.87080\n",
            "Val loss: 0.46276, Val accuracy: 0.84259\n",
            "\n",
            "EPOCH: 27/50\n",
            "Train loss: 0.34412, Train accuracy: 0.87463\n",
            "Val loss: 0.40589, Val accuracy: 0.86360\n",
            "\n",
            "EPOCH: 28/50\n",
            "Train loss: 0.33293, Train accuracy: 0.88139\n",
            "Val loss: 0.38342, Val accuracy: 0.87037\n",
            "\n",
            "EPOCH: 29/50\n",
            "Train loss: 0.30764, Train accuracy: 0.88735\n",
            "Val loss: 0.40260, Val accuracy: 0.86930\n",
            "\n",
            "EPOCH: 30/50\n",
            "Train loss: 0.30918, Train accuracy: 0.89049\n",
            "Val loss: 0.38642, Val accuracy: 0.86752\n",
            "\n",
            "EPOCH: 31/50\n",
            "Train loss: 0.28662, Train accuracy: 0.89671\n",
            "Val loss: 0.39294, Val accuracy: 0.86788\n",
            "\n",
            "EPOCH: 32/50\n",
            "Train loss: 0.26710, Train accuracy: 0.90251\n",
            "Val loss: 0.40074, Val accuracy: 0.87179\n",
            "\n",
            "EPOCH: 33/50\n",
            "Train loss: 0.26441, Train accuracy: 0.90528\n",
            "Val loss: 0.36206, Val accuracy: 0.88034\n",
            "\n",
            "EPOCH: 34/50\n",
            "Train loss: 0.25362, Train accuracy: 0.90906\n",
            "Val loss: 0.41234, Val accuracy: 0.86182\n",
            "\n",
            "EPOCH: 35/50\n",
            "Train loss: 0.24427, Train accuracy: 0.91193\n",
            "Val loss: 0.39563, Val accuracy: 0.86823\n",
            "\n",
            "EPOCH: 36/50\n",
            "Train loss: 0.22404, Train accuracy: 0.92050\n",
            "Val loss: 0.37248, Val accuracy: 0.87999\n",
            "\n",
            "EPOCH: 37/50\n",
            "Train loss: 0.22474, Train accuracy: 0.92029\n",
            "Val loss: 0.37909, Val accuracy: 0.87892\n",
            "\n",
            "EPOCH: 38/50\n",
            "Train loss: 0.20680, Train accuracy: 0.92609\n",
            "Val loss: 0.34465, Val accuracy: 0.89281\n",
            "\n",
            "EPOCH: 39/50\n",
            "Train loss: 0.19130, Train accuracy: 0.93162\n",
            "Val loss: 0.34299, Val accuracy: 0.88853\n",
            "\n",
            "EPOCH: 40/50\n",
            "Train loss: 0.18299, Train accuracy: 0.93370\n",
            "Val loss: 0.36560, Val accuracy: 0.88746\n",
            "\n",
            "EPOCH: 41/50\n",
            "Train loss: 0.17184, Train accuracy: 0.93859\n",
            "Val loss: 0.37575, Val accuracy: 0.87856\n",
            "\n",
            "EPOCH: 42/50\n",
            "Train loss: 0.16860, Train accuracy: 0.93875\n",
            "Val loss: 0.38864, Val accuracy: 0.88034\n",
            "\n",
            "EPOCH: 43/50\n",
            "Train loss: 0.16183, Train accuracy: 0.94178\n",
            "Val loss: 0.35038, Val accuracy: 0.89245\n",
            "\n",
            "EPOCH: 44/50\n",
            "Train loss: 0.15094, Train accuracy: 0.94482\n",
            "Val loss: 0.37413, Val accuracy: 0.88283\n",
            "\n",
            "EPOCH: 45/50\n",
            "Train loss: 0.14281, Train accuracy: 0.94673\n",
            "Val loss: 0.36220, Val accuracy: 0.88533\n",
            "\n",
            "EPOCH: 46/50\n",
            "Train loss: 0.13333, Train accuracy: 0.95083\n",
            "Val loss: 0.46780, Val accuracy: 0.86182\n",
            "\n",
            "EPOCH: 47/50\n",
            "Train loss: 0.12428, Train accuracy: 0.95434\n",
            "Val loss: 0.38624, Val accuracy: 0.89067\n",
            "\n",
            "EPOCH: 48/50\n",
            "Train loss: 0.11863, Train accuracy: 0.95599\n",
            "Val loss: 0.35185, Val accuracy: 0.89316\n",
            "\n",
            "Early stopping with minimum validation loss:  tensor(0.3430, device='cuda:0')\n"
          ]
        }
      ],
      "source": [
        "patience=8\n",
        "n_epochs=50\n",
        "model=train_model(model, NBATCH, patience, n_epochs,model_name)\n"
      ]
    },
    {
      "cell_type": "code",
      "execution_count": 17,
      "metadata": {
        "colab": {
          "base_uri": "https://localhost:8080/"
        },
        "id": "h6iMvpEtgciM",
        "outputId": "23d03fce-9cdc-4b4c-fecd-ecc9e9302d53"
      },
      "outputs": [
        {
          "name": "stdout",
          "output_type": "stream",
          "text": [
            "--2022-04-05 16:21:18--  https://docs.google.com/uc?export=download&confirm=&id=1-2s-1fVumOtqtmJUyWKvDCUq8mDvJa95\n",
            "Resolving docs.google.com (docs.google.com)... 142.251.107.138, 142.251.107.101, 142.251.107.139, ...\n",
            "Connecting to docs.google.com (docs.google.com)|142.251.107.138|:443... connected.\n",
            "HTTP request sent, awaiting response... 303 See Other\n",
            "Location: https://doc-0o-b8-docs.googleusercontent.com/docs/securesc/ha0ro937gcuc7l7deffksulhg5h7mbp1/87vt77b9jefds2rf1hpvlbn4q29uu0d9/1649175675000/11335180243043672040/*/1-2s-1fVumOtqtmJUyWKvDCUq8mDvJa95?e=download [following]\n",
            "Warning: wildcards not supported in HTTP.\n",
            "--2022-04-05 16:21:19--  https://doc-0o-b8-docs.googleusercontent.com/docs/securesc/ha0ro937gcuc7l7deffksulhg5h7mbp1/87vt77b9jefds2rf1hpvlbn4q29uu0d9/1649175675000/11335180243043672040/*/1-2s-1fVumOtqtmJUyWKvDCUq8mDvJa95?e=download\n",
            "Resolving doc-0o-b8-docs.googleusercontent.com (doc-0o-b8-docs.googleusercontent.com)... 172.217.193.132, 2607:f8b0:400c:c03::84\n",
            "Connecting to doc-0o-b8-docs.googleusercontent.com (doc-0o-b8-docs.googleusercontent.com)|172.217.193.132|:443... connected.\n",
            "HTTP request sent, awaiting response... 200 OK\n",
            "Length: 15603521 (15M) [application/x-zip]\n",
            "Saving to: ‘logs_cnn/best_model_cnn.pt’\n",
            "\n",
            "logs_cnn/best_model 100%[===================>]  14.88M  --.-KB/s    in 0.04s   \n",
            "\n",
            "2022-04-05 16:21:19 (343 MB/s) - ‘logs_cnn/best_model_cnn.pt’ saved [15603521/15603521]\n",
            "\n"
          ]
        }
      ],
      "source": [
        "#download model \n",
        "!wget --load-cookies /tmp/cookies.txt \"https://docs.google.com/uc?export=download&confirm=$(wget --quiet --save-cookies /tmp/cookies.txt --keep-session-cookies --no-check-certificate 'https://docs.google.com/uc?export=download&id=1-2s-1fVumOtqtmJUyWKvDCUq8mDvJa95' -O- | sed -rn 's/.*confirm=([0-9A-Za-z_]+).*/\\1\\n/p')&id=1-2s-1fVumOtqtmJUyWKvDCUq8mDvJa95\" -O logs_cnn/best_model_cnn.pt && rm -rf /tmp/cookies.txt"
      ]
    },
    {
      "cell_type": "code",
      "execution_count": 18,
      "metadata": {
        "id": "2ljr5m7LgkuI"
      },
      "outputs": [],
      "source": [
        "checkpoint = torch.load('logs_cnn/best_model_cnn.pt')\n",
        "model.load_state_dict(checkpoint)\n",
        "model=model.to(device)"
      ]
    },
    {
      "cell_type": "code",
      "execution_count": 19,
      "metadata": {
        "colab": {
          "base_uri": "https://localhost:8080/"
        },
        "id": "B7wR9uLKhizj",
        "outputId": "2d56c3f0-6644-47a7-d6be-7a30024a74a7"
      },
      "outputs": [
        {
          "name": "stderr",
          "output_type": "stream",
          "text": [
            "/usr/local/lib/python3.7/dist-packages/torch/utils/data/dataloader.py:481: UserWarning: This DataLoader will create 4 worker processes in total. Our suggested max number of worker in current system is 2, which is smaller than what this DataLoader is going to create. Please be aware that excessive worker creation might get DataLoader running slow or even freeze, lower the worker number to avoid potential slowness/freeze if necessary.\n",
            "  cpuset_checked))\n"
          ]
        },
        {
          "name": "stdout",
          "output_type": "stream",
          "text": [
            "validation accuracy 0.8885327635327636\n"
          ]
        }
      ],
      "source": [
        "#check the validation accuracy\n",
        "val_correct=0\n",
        "with torch.no_grad():\n",
        "  model.eval()\n",
        "  for (x, y) in val_loader:\n",
        "    x = x.to(device)\n",
        "    pred = model(x)\n",
        "    val_correct += (pred.argmax(1).to(device) == y.to(device)).type(torch.float).sum().item()\n",
        "\n",
        "val_correct = val_correct / len(val_loader.dataset)\n",
        "print('validation accuracy',val_correct)\n"
      ]
    },
    {
      "cell_type": "code",
      "execution_count": 20,
      "metadata": {
        "colab": {
          "base_uri": "https://localhost:8080/"
        },
        "id": "1bDVhDKjYZey",
        "outputId": "d880f72f-c2b9-4428-b127-9eb12dd3c30f"
      },
      "outputs": [
        {
          "name": "stderr",
          "output_type": "stream",
          "text": [
            "/usr/local/lib/python3.7/dist-packages/torch/utils/data/dataloader.py:481: UserWarning: This DataLoader will create 4 worker processes in total. Our suggested max number of worker in current system is 2, which is smaller than what this DataLoader is going to create. Please be aware that excessive worker creation might get DataLoader running slow or even freeze, lower the worker number to avoid potential slowness/freeze if necessary.\n",
            "  cpuset_checked))\n"
          ]
        },
        {
          "name": "stdout",
          "output_type": "stream",
          "text": [
            "Test accuracy 0.8944444444444445\n"
          ]
        }
      ],
      "source": [
        "#check test accuracy\n",
        "test_correct=0\n",
        "with torch.no_grad():\n",
        "\tmodel.eval()\n",
        "\tpreds = []\n",
        "\tfor (x, y) in test_loader:\n",
        "\t\tx = x.to(device)\n",
        "\t\tpred = model(x)\n",
        "\t\tpreds.extend(pred.argmax(axis=1).cpu().numpy())\n",
        "\t\ttest_correct += (pred.argmax(1).to(device) == y.to(device)).type(torch.float).sum().item()\n",
        "\n",
        "test_correct = test_correct / len(test_loader.dataset)\n",
        "print('Test accuracy',test_correct)\n",
        "\n"
      ]
    },
    {
      "cell_type": "code",
      "execution_count": 21,
      "metadata": {
        "colab": {
          "base_uri": "https://localhost:8080/"
        },
        "id": "6AvVuK9Dk7Vj",
        "outputId": "2d55037e-4603-4af1-c676-f3e11a0b9e69"
      },
      "outputs": [
        {
          "name": "stdout",
          "output_type": "stream",
          "text": [
            "              precision    recall  f1-score   support\n",
            "\n",
            "           0       0.89      0.90      0.90       600\n",
            "           1       0.98      0.96      0.97       600\n",
            "           2       0.90      0.85      0.88       600\n",
            "           3       0.82      0.83      0.82       500\n",
            "           4       0.92      0.93      0.93       500\n",
            "           5       0.79      0.92      0.85       400\n",
            "           6       0.78      0.81      0.80       500\n",
            "           7       0.96      0.93      0.94       600\n",
            "           8       0.88      0.80      0.84       500\n",
            "           9       0.98      0.98      0.98       600\n",
            "\n",
            "    accuracy                           0.89      5400\n",
            "   macro avg       0.89      0.89      0.89      5400\n",
            "weighted avg       0.90      0.89      0.89      5400\n",
            "\n"
          ]
        }
      ],
      "source": [
        "#classification report on test dataset\n",
        "labels= [val[1] for val in test_set]\n",
        "\n",
        "print(classification_report(np.array(labels),np.array(preds)))"
      ]
    },
    {
      "cell_type": "code",
      "execution_count": 22,
      "metadata": {
        "colab": {
          "base_uri": "https://localhost:8080/",
          "height": 297
        },
        "id": "QE7GQODjYZe0",
        "outputId": "f26e79df-dc2c-41fc-fb0f-6a958d3fd3d3"
      },
      "outputs": [
        {
          "data": {
            "text/plain": [
              "<sklearn.metrics._plot.confusion_matrix.ConfusionMatrixDisplay at 0x7f1ac804c150>"
            ]
          },
          "execution_count": 22,
          "metadata": {},
          "output_type": "execute_result"
        },
        {
          "data": {
            "image/png": "[encoded data removed]",
            "text/plain": [
              "<Figure size 432x288 with 2 Axes>"
            ]
          },
          "metadata": {
            "needs_background": "light"
          },
          "output_type": "display_data"
        }
      ],
      "source": [
        "#heatmap for test dataset\n",
        "from sklearn.metrics import confusion_matrix, ConfusionMatrixDisplay\n",
        "cm = confusion_matrix(labels, preds)\n",
        "disp = ConfusionMatrixDisplay(confusion_matrix=cm)\n",
        "disp.plot()"
      ]
    },
    {
      "cell_type": "code",
      "execution_count": 23,
      "metadata": {
        "colab": {
          "base_uri": "https://localhost:8080/",
          "height": 195
        },
        "id": "JDOp4jNllfH2",
        "outputId": "3fa17145-3958-403d-deff-a058fd96f0dc"
      },
      "outputs": [
        {
          "data": {
            "text/plain": [
              "<matplotlib.legend.Legend at 0x7f1ac19c8a90>"
            ]
          },
          "execution_count": 23,
          "metadata": {},
          "output_type": "execute_result"
        },
        {
          "data": {
            "image/png": "[encoded data removed]",
            "text/plain": [
              "<Figure size 432x288 with 1 Axes>"
            ]
          },
          "metadata": {
            "needs_background": "light"
          },
          "output_type": "display_data"
        }
      ],
      "source": [
        "#plot loss vs epch graph for train and validation\n",
        "import matplotlib.pyplot as plt\n",
        "epochs=list(range(1,len(train_losses)+1))\n",
        "plt.subplot(2,1,1)\n",
        "plt.plot(epochs,train_losses,label='train')\n",
        "plt.plot(epochs,val_losses,label='val')\n",
        "plt.title('model loss')\n",
        "plt.ylabel('loss')\n",
        "plt.xlabel('epoch')\n",
        "plt.legend()"
      ]
    },
    {
      "cell_type": "code",
      "execution_count": 24,
      "metadata": {
        "colab": {
          "base_uri": "https://localhost:8080/",
          "height": 195
        },
        "id": "P7UJk-TOofu5",
        "outputId": "22a06bcf-410d-430c-d43e-5451788cef6e"
      },
      "outputs": [
        {
          "data": {
            "text/plain": [
              "<matplotlib.legend.Legend at 0x7f1ac151f850>"
            ]
          },
          "execution_count": 24,
          "metadata": {},
          "output_type": "execute_result"
        },
        {
          "data": {
            "image/png": "[encoded data removed]",
            "text/plain": [
              "<Figure size 432x288 with 1 Axes>"
            ]
          },
          "metadata": {
            "needs_background": "light"
          },
          "output_type": "display_data"
        }
      ],
      "source": [
        "#plot accuracy vs epch graph for train and validation\n",
        "epochs=list(range(1,len(train_acc)+1))\n",
        "plt.subplot(2,1,1)\n",
        "plt.plot(epochs,train_acc,label='train')\n",
        "plt.plot(epochs,val_acc,label='val')\n",
        "plt.title('model accuracy')\n",
        "plt.ylabel('accuracy')\n",
        "plt.xlabel('epoch')\n",
        "plt.legend()"
      ]
    },
    {
      "cell_type": "code",
      "execution_count": 25,
      "metadata": {
        "id": "TUEghI4opHpw"
      },
      "outputs": [],
      "source": [
        "#create csv file for kaggle submission\n",
        "ids=[i for i in range(len(test_loader.dataset))]\n",
        "my_submission = pd.DataFrame({'id': ids, 'label': preds})\n",
        "my_submission.to_csv('submission_task1.csv', index=False)"
      ]
    },
    {
      "cell_type": "code",
      "execution_count": null,
      "metadata": {
        "id": "g4YReQ4biNCr"
      },
      "outputs": [],
      "source": []
    }
  ],
  "metadata": {
    "accelerator": "GPU",
    "colab": {
      "collapsed_sections": [],
      "name": "cnn_21CS60R39_Krinal_Patel.ipynb",
      "provenance": []
    },
    "kernelspec": {
      "display_name": "Python 3",
      "language": "python",
      "name": "python3"
    },
    "language_info": {
      "codemirror_mode": {
        "name": "ipython",
        "version": 3
      },
      "file_extension": ".py",
      "mimetype": "text/x-python",
      "name": "python",
      "nbconvert_exporter": "python",
      "pygments_lexer": "ipython3",
      "version": "3.7.12"
    }
  },
  "nbformat": 4,
  "nbformat_minor": 0
}
