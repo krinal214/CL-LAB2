{
  "cells": [
    {
      "cell_type": "code",
      "execution_count": 1,
      "metadata": {
        "colab": {
          "base_uri": "https://localhost:8080/"
        },
        "execution": {
          "iopub.execute_input": "2022-03-27T07:28:30.004682Z",
          "iopub.status.busy": "2022-03-27T07:28:30.003737Z",
          "iopub.status.idle": "2022-03-27T07:28:39.488238Z",
          "shell.execute_reply": "2022-03-27T07:28:39.487405Z",
          "shell.execute_reply.started": "2022-03-27T07:28:30.004558Z"
        },
        "id": "DcGT5Clh6VJJ",
        "outputId": "92ea0698-764c-4195-94bd-5a731f708c40",
        "trusted": true
      },
      "outputs": [
        {
          "name": "stdout",
          "output_type": "stream",
          "text": [
            "Collecting torch-summary\n",
            "  Downloading torch_summary-1.4.5-py3-none-any.whl (16 kB)\n",
            "Installing collected packages: torch-summary\n",
            "Successfully installed torch-summary-1.4.5\n"
          ]
        }
      ],
      "source": [
        "#! pip install torch-summary #for visualizing the model\n"
      ]
    },
    {
      "cell_type": "code",
      "execution_count": 2,
      "metadata": {
        "colab": {
          "base_uri": "https://localhost:8080/"
        },
        "id": "vVnDRVYQJsnP",
        "outputId": "9e864763-3e5a-4068-c3bd-ce14fb3693b8"
      },
      "outputs": [
        {
          "name": "stdout",
          "output_type": "stream",
          "text": [
            "--2022-04-05 15:25:39--  https://docs.google.com/uc?export=download&confirm=t&id=1NPMGpcdM9OEiv9j40axB-ikKyz1N38mv\n",
            "Resolving docs.google.com (docs.google.com)... 142.250.148.113, 142.250.148.102, 142.250.148.139, ...\n",
            "Connecting to docs.google.com (docs.google.com)|142.250.148.113|:443... connected.\n",
            "HTTP request sent, awaiting response... 303 See Other\n",
            "Location: https://doc-00-ag-docs.googleusercontent.com/docs/securesc/ha0ro937gcuc7l7deffksulhg5h7mbp1/4pklignkvo60gak6phjepqb5pn4mscgc/1649172300000/06319575137151008904/*/1NPMGpcdM9OEiv9j40axB-ikKyz1N38mv?e=download [following]\n",
            "Warning: wildcards not supported in HTTP.\n",
            "--2022-04-05 15:25:39--  https://doc-00-ag-docs.googleusercontent.com/docs/securesc/ha0ro937gcuc7l7deffksulhg5h7mbp1/4pklignkvo60gak6phjepqb5pn4mscgc/1649172300000/06319575137151008904/*/1NPMGpcdM9OEiv9j40axB-ikKyz1N38mv?e=download\n",
            "Resolving doc-00-ag-docs.googleusercontent.com (doc-00-ag-docs.googleusercontent.com)... 74.125.126.132, 2607:f8b0:4001:c1d::84\n",
            "Connecting to doc-00-ag-docs.googleusercontent.com (doc-00-ag-docs.googleusercontent.com)|74.125.126.132|:443... connected.\n",
            "HTTP request sent, awaiting response... 200 OK\n",
            "Length: 312395103 (298M) [application/zip]\n",
            "Saving to: ‘euroSAT_tvt_pkl.zip’\n",
            "\n",
            "euroSAT_tvt_pkl.zip 100%[===================>] 297.92M   189MB/s    in 1.6s    \n",
            "\n",
            "2022-04-05 15:25:41 (189 MB/s) - ‘euroSAT_tvt_pkl.zip’ saved [312395103/312395103]\n",
            "\n"
          ]
        }
      ],
      "source": [
        "#download dataset\n",
        "!wget --load-cookies /tmp/cookies.txt \"https://docs.google.com/uc?export=download&confirm=$(wget --quiet --save-cookies /tmp/cookies.txt --keep-session-cookies --no-check-certificate 'https://docs.google.com/uc?export=download&id=1NPMGpcdM9OEiv9j40axB-ikKyz1N38mv' -O- | sed -rn 's/.*confirm=([0-9A-Za-z_]+).*/\\1\\n/p')&id=1NPMGpcdM9OEiv9j40axB-ikKyz1N38mv\" -O euroSAT_tvt_pkl.zip && rm -rf /tmp/cookies.txt"
      ]
    },
    {
      "cell_type": "code",
      "execution_count": 3,
      "metadata": {
        "colab": {
          "base_uri": "https://localhost:8080/"
        },
        "id": "M6kcmeKKJuEI",
        "outputId": "9a403b87-3aa5-497e-e024-984799aa1dc8"
      },
      "outputs": [
        {
          "name": "stdout",
          "output_type": "stream",
          "text": [
            "Archive:  euroSAT_tvt_pkl.zip\n",
            "  inflating: euroSAT_train_val_test.pkl  \n"
          ]
        }
      ],
      "source": [
        "!unzip euroSAT_tvt_pkl.zip"
      ]
    },
    {
      "cell_type": "code",
      "execution_count": 4,
      "metadata": {
        "execution": {
          "iopub.execute_input": "2022-03-27T07:28:39.491307Z",
          "iopub.status.busy": "2022-03-27T07:28:39.491025Z",
          "iopub.status.idle": "2022-03-27T07:28:41.892260Z",
          "shell.execute_reply": "2022-03-27T07:28:41.891552Z",
          "shell.execute_reply.started": "2022-03-27T07:28:39.491270Z"
        },
        "id": "vhtgc3k91i2v",
        "trusted": true
      },
      "outputs": [],
      "source": [
        "from PIL import Image \n",
        "\n",
        "## PyTorch\n",
        "import torch\n",
        "from torch import Tensor\n",
        "import torch.utils.data as data\n",
        "from sklearn.metrics import classification_report\n",
        "import torch.nn as nn\n",
        "import torch.nn.functional as F\n",
        "import torch.optim as optim\n",
        "import pandas as pd\n",
        "import numpy as np\n",
        " \n",
        "# Torchvision\n",
        "import torchvision\n",
        "from torchvision import models\n",
        "\n",
        "#from torchsummary import summary"
      ]
    },
    {
      "cell_type": "code",
      "execution_count": 5,
      "metadata": {
        "execution": {
          "iopub.execute_input": "2022-03-27T07:28:41.893834Z",
          "iopub.status.busy": "2022-03-27T07:28:41.893574Z",
          "iopub.status.idle": "2022-03-27T07:28:41.937908Z",
          "shell.execute_reply": "2022-03-27T07:28:41.937176Z",
          "shell.execute_reply.started": "2022-03-27T07:28:41.893800Z"
        },
        "id": "3MuEVR1l1i2y",
        "trusted": true
      },
      "outputs": [],
      "source": [
        "#setting the seed value\n",
        "torch.manual_seed(39)\n",
        "import random\n",
        "random.seed(39)\n",
        "np.random.seed(39)\n",
        "device = torch.device(\"cuda\" if torch.cuda.is_available() else \"cpu\")"
      ]
    },
    {
      "cell_type": "code",
      "execution_count": 6,
      "metadata": {
        "colab": {
          "base_uri": "https://localhost:8080/",
          "height": 87,
          "referenced_widgets": [
            "b383a020efe0417d9fcb5b6a879806d2",
            "14909dd3d12349fcab254143f2b337a5",
            "8277de8942e2475d9f63b9cfb97fd789",
            "6e5cf66e6d2948f281d45afc6f5a94f5",
            "ad1ca10ee54a403b871e914141ad5728",
            "d60f3498d0e24517849342e178a13ed2",
            "79933f69efb144d68b1a4dbf9c48b140",
            "36b71aa851484c6da25d1475cbda7d8e",
            "f5e69ccf4f8540ec9b21ab7107344097",
            "9c850ecd62284ea3a223c163b26049c4",
            "3e227614caaa4fadb273320434b457c2"
          ]
        },
        "execution": {
          "iopub.execute_input": "2022-03-27T07:28:41.940457Z",
          "iopub.status.busy": "2022-03-27T07:28:41.940192Z",
          "iopub.status.idle": "2022-03-27T07:28:53.101077Z",
          "shell.execute_reply": "2022-03-27T07:28:53.100364Z",
          "shell.execute_reply.started": "2022-03-27T07:28:41.940422Z"
        },
        "id": "vQwjGU2P1i20",
        "outputId": "9dfb7efb-1b23-4bc8-e3ad-7476e8162cc3",
        "trusted": true
      },
      "outputs": [
        {
          "name": "stderr",
          "output_type": "stream",
          "text": [
            "Downloading: \"https://download.pytorch.org/models/resnet18-f37072fd.pth\" to /root/.cache/torch/hub/checkpoints/resnet18-f37072fd.pth\n"
          ]
        },
        {
          "data": {
            "application/vnd.jupyter.widget-view+json": {
              "model_id": "b383a020efe0417d9fcb5b6a879806d2",
              "version_major": 2,
              "version_minor": 0
            },
            "text/plain": [
              "  0%|          | 0.00/44.7M [00:00<?, ?B/s]"
            ]
          },
          "metadata": {},
          "output_type": "display_data"
        }
      ],
      "source": [
        "#import the resnet model\n",
        "resnet_model = models.resnet18(pretrained=True)\n",
        "num_inp = resnet_model.fc.in_features\n",
        "resnet_model.fc = nn.Linear(num_inp, 10)\n",
        "resnet_model=resnet_model.to(device)\n"
      ]
    },
    {
      "cell_type": "code",
      "execution_count": 7,
      "metadata": {
        "colab": {
          "base_uri": "https://localhost:8080/"
        },
        "id": "XQ2yg8xXJ5uw",
        "outputId": "a04dc396-0328-4243-ee1b-050a557a6b05"
      },
      "outputs": [
        {
          "name": "stdout",
          "output_type": "stream",
          "text": [
            "==========================================================================================\n",
            "Layer (type:depth-idx)                   Output Shape              Param #\n",
            "==========================================================================================\n",
            "├─Conv2d: 1-1                            [-1, 64, 32, 32]          9,408\n",
            "├─BatchNorm2d: 1-2                       [-1, 64, 32, 32]          128\n",
            "├─ReLU: 1-3                              [-1, 64, 32, 32]          --\n",
            "├─MaxPool2d: 1-4                         [-1, 64, 16, 16]          --\n",
            "├─Sequential: 1-5                        [-1, 64, 16, 16]          --\n",
            "|    └─BasicBlock: 2-1                   [-1, 64, 16, 16]          --\n",
            "|    |    └─Conv2d: 3-1                  [-1, 64, 16, 16]          36,864\n",
            "|    |    └─BatchNorm2d: 3-2             [-1, 64, 16, 16]          128\n",
            "|    |    └─ReLU: 3-3                    [-1, 64, 16, 16]          --\n",
            "|    |    └─Conv2d: 3-4                  [-1, 64, 16, 16]          36,864\n",
            "|    |    └─BatchNorm2d: 3-5             [-1, 64, 16, 16]          128\n",
            "|    |    └─ReLU: 3-6                    [-1, 64, 16, 16]          --\n",
            "|    └─BasicBlock: 2-2                   [-1, 64, 16, 16]          --\n",
            "|    |    └─Conv2d: 3-7                  [-1, 64, 16, 16]          36,864\n",
            "|    |    └─BatchNorm2d: 3-8             [-1, 64, 16, 16]          128\n",
            "|    |    └─ReLU: 3-9                    [-1, 64, 16, 16]          --\n",
            "|    |    └─Conv2d: 3-10                 [-1, 64, 16, 16]          36,864\n",
            "|    |    └─BatchNorm2d: 3-11            [-1, 64, 16, 16]          128\n",
            "|    |    └─ReLU: 3-12                   [-1, 64, 16, 16]          --\n",
            "├─Sequential: 1-6                        [-1, 128, 8, 8]           --\n",
            "|    └─BasicBlock: 2-3                   [-1, 128, 8, 8]           --\n",
            "|    |    └─Conv2d: 3-13                 [-1, 128, 8, 8]           73,728\n",
            "|    |    └─BatchNorm2d: 3-14            [-1, 128, 8, 8]           256\n",
            "|    |    └─ReLU: 3-15                   [-1, 128, 8, 8]           --\n",
            "|    |    └─Conv2d: 3-16                 [-1, 128, 8, 8]           147,456\n",
            "|    |    └─BatchNorm2d: 3-17            [-1, 128, 8, 8]           256\n",
            "|    |    └─Sequential: 3-18             [-1, 128, 8, 8]           8,448\n",
            "|    |    └─ReLU: 3-19                   [-1, 128, 8, 8]           --\n",
            "|    └─BasicBlock: 2-4                   [-1, 128, 8, 8]           --\n",
            "|    |    └─Conv2d: 3-20                 [-1, 128, 8, 8]           147,456\n",
            "|    |    └─BatchNorm2d: 3-21            [-1, 128, 8, 8]           256\n",
            "|    |    └─ReLU: 3-22                   [-1, 128, 8, 8]           --\n",
            "|    |    └─Conv2d: 3-23                 [-1, 128, 8, 8]           147,456\n",
            "|    |    └─BatchNorm2d: 3-24            [-1, 128, 8, 8]           256\n",
            "|    |    └─ReLU: 3-25                   [-1, 128, 8, 8]           --\n",
            "├─Sequential: 1-7                        [-1, 256, 4, 4]           --\n",
            "|    └─BasicBlock: 2-5                   [-1, 256, 4, 4]           --\n",
            "|    |    └─Conv2d: 3-26                 [-1, 256, 4, 4]           294,912\n",
            "|    |    └─BatchNorm2d: 3-27            [-1, 256, 4, 4]           512\n",
            "|    |    └─ReLU: 3-28                   [-1, 256, 4, 4]           --\n",
            "|    |    └─Conv2d: 3-29                 [-1, 256, 4, 4]           589,824\n",
            "|    |    └─BatchNorm2d: 3-30            [-1, 256, 4, 4]           512\n",
            "|    |    └─Sequential: 3-31             [-1, 256, 4, 4]           33,280\n",
            "|    |    └─ReLU: 3-32                   [-1, 256, 4, 4]           --\n",
            "|    └─BasicBlock: 2-6                   [-1, 256, 4, 4]           --\n",
            "|    |    └─Conv2d: 3-33                 [-1, 256, 4, 4]           589,824\n",
            "|    |    └─BatchNorm2d: 3-34            [-1, 256, 4, 4]           512\n",
            "|    |    └─ReLU: 3-35                   [-1, 256, 4, 4]           --\n",
            "|    |    └─Conv2d: 3-36                 [-1, 256, 4, 4]           589,824\n",
            "|    |    └─BatchNorm2d: 3-37            [-1, 256, 4, 4]           512\n",
            "|    |    └─ReLU: 3-38                   [-1, 256, 4, 4]           --\n",
            "├─Sequential: 1-8                        [-1, 512, 2, 2]           --\n",
            "|    └─BasicBlock: 2-7                   [-1, 512, 2, 2]           --\n",
            "|    |    └─Conv2d: 3-39                 [-1, 512, 2, 2]           1,179,648\n",
            "|    |    └─BatchNorm2d: 3-40            [-1, 512, 2, 2]           1,024\n",
            "|    |    └─ReLU: 3-41                   [-1, 512, 2, 2]           --\n",
            "|    |    └─Conv2d: 3-42                 [-1, 512, 2, 2]           2,359,296\n",
            "|    |    └─BatchNorm2d: 3-43            [-1, 512, 2, 2]           1,024\n",
            "|    |    └─Sequential: 3-44             [-1, 512, 2, 2]           132,096\n",
            "|    |    └─ReLU: 3-45                   [-1, 512, 2, 2]           --\n",
            "|    └─BasicBlock: 2-8                   [-1, 512, 2, 2]           --\n",
            "|    |    └─Conv2d: 3-46                 [-1, 512, 2, 2]           2,359,296\n",
            "|    |    └─BatchNorm2d: 3-47            [-1, 512, 2, 2]           1,024\n",
            "|    |    └─ReLU: 3-48                   [-1, 512, 2, 2]           --\n",
            "|    |    └─Conv2d: 3-49                 [-1, 512, 2, 2]           2,359,296\n",
            "|    |    └─BatchNorm2d: 3-50            [-1, 512, 2, 2]           1,024\n",
            "|    |    └─ReLU: 3-51                   [-1, 512, 2, 2]           --\n",
            "├─AdaptiveAvgPool2d: 1-9                 [-1, 512, 1, 1]           --\n",
            "├─Linear: 1-10                           [-1, 10]                  5,130\n",
            "==========================================================================================\n",
            "Total params: 11,181,642\n",
            "Trainable params: 11,181,642\n",
            "Non-trainable params: 0\n",
            "Total mult-adds (M): 170.55\n",
            "==========================================================================================\n",
            "Input size (MB): 0.05\n",
            "Forward/backward pass size (MB): 3.09\n",
            "Params size (MB): 42.65\n",
            "Estimated Total Size (MB): 45.80\n",
            "==========================================================================================\n"
          ]
        },
        {
          "data": {
            "text/plain": [
              "==========================================================================================\n",
              "Layer (type:depth-idx)                   Output Shape              Param #\n",
              "==========================================================================================\n",
              "├─Conv2d: 1-1                            [-1, 64, 32, 32]          9,408\n",
              "├─BatchNorm2d: 1-2                       [-1, 64, 32, 32]          128\n",
              "├─ReLU: 1-3                              [-1, 64, 32, 32]          --\n",
              "├─MaxPool2d: 1-4                         [-1, 64, 16, 16]          --\n",
              "├─Sequential: 1-5                        [-1, 64, 16, 16]          --\n",
              "|    └─BasicBlock: 2-1                   [-1, 64, 16, 16]          --\n",
              "|    |    └─Conv2d: 3-1                  [-1, 64, 16, 16]          36,864\n",
              "|    |    └─BatchNorm2d: 3-2             [-1, 64, 16, 16]          128\n",
              "|    |    └─ReLU: 3-3                    [-1, 64, 16, 16]          --\n",
              "|    |    └─Conv2d: 3-4                  [-1, 64, 16, 16]          36,864\n",
              "|    |    └─BatchNorm2d: 3-5             [-1, 64, 16, 16]          128\n",
              "|    |    └─ReLU: 3-6                    [-1, 64, 16, 16]          --\n",
              "|    └─BasicBlock: 2-2                   [-1, 64, 16, 16]          --\n",
              "|    |    └─Conv2d: 3-7                  [-1, 64, 16, 16]          36,864\n",
              "|    |    └─BatchNorm2d: 3-8             [-1, 64, 16, 16]          128\n",
              "|    |    └─ReLU: 3-9                    [-1, 64, 16, 16]          --\n",
              "|    |    └─Conv2d: 3-10                 [-1, 64, 16, 16]          36,864\n",
              "|    |    └─BatchNorm2d: 3-11            [-1, 64, 16, 16]          128\n",
              "|    |    └─ReLU: 3-12                   [-1, 64, 16, 16]          --\n",
              "├─Sequential: 1-6                        [-1, 128, 8, 8]           --\n",
              "|    └─BasicBlock: 2-3                   [-1, 128, 8, 8]           --\n",
              "|    |    └─Conv2d: 3-13                 [-1, 128, 8, 8]           73,728\n",
              "|    |    └─BatchNorm2d: 3-14            [-1, 128, 8, 8]           256\n",
              "|    |    └─ReLU: 3-15                   [-1, 128, 8, 8]           --\n",
              "|    |    └─Conv2d: 3-16                 [-1, 128, 8, 8]           147,456\n",
              "|    |    └─BatchNorm2d: 3-17            [-1, 128, 8, 8]           256\n",
              "|    |    └─Sequential: 3-18             [-1, 128, 8, 8]           8,448\n",
              "|    |    └─ReLU: 3-19                   [-1, 128, 8, 8]           --\n",
              "|    └─BasicBlock: 2-4                   [-1, 128, 8, 8]           --\n",
              "|    |    └─Conv2d: 3-20                 [-1, 128, 8, 8]           147,456\n",
              "|    |    └─BatchNorm2d: 3-21            [-1, 128, 8, 8]           256\n",
              "|    |    └─ReLU: 3-22                   [-1, 128, 8, 8]           --\n",
              "|    |    └─Conv2d: 3-23                 [-1, 128, 8, 8]           147,456\n",
              "|    |    └─BatchNorm2d: 3-24            [-1, 128, 8, 8]           256\n",
              "|    |    └─ReLU: 3-25                   [-1, 128, 8, 8]           --\n",
              "├─Sequential: 1-7                        [-1, 256, 4, 4]           --\n",
              "|    └─BasicBlock: 2-5                   [-1, 256, 4, 4]           --\n",
              "|    |    └─Conv2d: 3-26                 [-1, 256, 4, 4]           294,912\n",
              "|    |    └─BatchNorm2d: 3-27            [-1, 256, 4, 4]           512\n",
              "|    |    └─ReLU: 3-28                   [-1, 256, 4, 4]           --\n",
              "|    |    └─Conv2d: 3-29                 [-1, 256, 4, 4]           589,824\n",
              "|    |    └─BatchNorm2d: 3-30            [-1, 256, 4, 4]           512\n",
              "|    |    └─Sequential: 3-31             [-1, 256, 4, 4]           33,280\n",
              "|    |    └─ReLU: 3-32                   [-1, 256, 4, 4]           --\n",
              "|    └─BasicBlock: 2-6                   [-1, 256, 4, 4]           --\n",
              "|    |    └─Conv2d: 3-33                 [-1, 256, 4, 4]           589,824\n",
              "|    |    └─BatchNorm2d: 3-34            [-1, 256, 4, 4]           512\n",
              "|    |    └─ReLU: 3-35                   [-1, 256, 4, 4]           --\n",
              "|    |    └─Conv2d: 3-36                 [-1, 256, 4, 4]           589,824\n",
              "|    |    └─BatchNorm2d: 3-37            [-1, 256, 4, 4]           512\n",
              "|    |    └─ReLU: 3-38                   [-1, 256, 4, 4]           --\n",
              "├─Sequential: 1-8                        [-1, 512, 2, 2]           --\n",
              "|    └─BasicBlock: 2-7                   [-1, 512, 2, 2]           --\n",
              "|    |    └─Conv2d: 3-39                 [-1, 512, 2, 2]           1,179,648\n",
              "|    |    └─BatchNorm2d: 3-40            [-1, 512, 2, 2]           1,024\n",
              "|    |    └─ReLU: 3-41                   [-1, 512, 2, 2]           --\n",
              "|    |    └─Conv2d: 3-42                 [-1, 512, 2, 2]           2,359,296\n",
              "|    |    └─BatchNorm2d: 3-43            [-1, 512, 2, 2]           1,024\n",
              "|    |    └─Sequential: 3-44             [-1, 512, 2, 2]           132,096\n",
              "|    |    └─ReLU: 3-45                   [-1, 512, 2, 2]           --\n",
              "|    └─BasicBlock: 2-8                   [-1, 512, 2, 2]           --\n",
              "|    |    └─Conv2d: 3-46                 [-1, 512, 2, 2]           2,359,296\n",
              "|    |    └─BatchNorm2d: 3-47            [-1, 512, 2, 2]           1,024\n",
              "|    |    └─ReLU: 3-48                   [-1, 512, 2, 2]           --\n",
              "|    |    └─Conv2d: 3-49                 [-1, 512, 2, 2]           2,359,296\n",
              "|    |    └─BatchNorm2d: 3-50            [-1, 512, 2, 2]           1,024\n",
              "|    |    └─ReLU: 3-51                   [-1, 512, 2, 2]           --\n",
              "├─AdaptiveAvgPool2d: 1-9                 [-1, 512, 1, 1]           --\n",
              "├─Linear: 1-10                           [-1, 10]                  5,130\n",
              "==========================================================================================\n",
              "Total params: 11,181,642\n",
              "Trainable params: 11,181,642\n",
              "Non-trainable params: 0\n",
              "Total mult-adds (M): 170.55\n",
              "==========================================================================================\n",
              "Input size (MB): 0.05\n",
              "Forward/backward pass size (MB): 3.09\n",
              "Params size (MB): 42.65\n",
              "Estimated Total Size (MB): 45.80\n",
              "=========================================================================================="
            ]
          },
          "execution_count": 7,
          "metadata": {},
          "output_type": "execute_result"
        }
      ],
      "source": [
        "#summary(resnet_model,(3,64,64))"
      ]
    },
    {
      "cell_type": "code",
      "execution_count": 8,
      "metadata": {
        "colab": {
          "base_uri": "https://localhost:8080/"
        },
        "execution": {
          "iopub.execute_input": "2022-03-27T07:28:53.102709Z",
          "iopub.status.busy": "2022-03-27T07:28:53.102423Z",
          "iopub.status.idle": "2022-03-27T07:29:03.069749Z",
          "shell.execute_reply": "2022-03-27T07:29:03.068969Z",
          "shell.execute_reply.started": "2022-03-27T07:28:53.102673Z"
        },
        "id": "rrLFUIL7k45C",
        "outputId": "180de6ab-1cc7-4e61-e460-4e8227641576",
        "trusted": true
      },
      "outputs": [
        {
          "name": "stdout",
          "output_type": "stream",
          "text": [
            "18792 2808 5400\n",
            "(3, 64, 64) 7\n"
          ]
        }
      ],
      "source": [
        "import pickle\n",
        "with open(\"euroSAT_train_val_test.pkl\", 'rb') as f:\n",
        "    train_set, val_set, test_set = pickle.load(f)\n",
        "print (len(train_set), len(val_set), len(test_set)) # 18792 2808 5400\n",
        "print (train_set[0][0].shape, train_set[0][1]) # (3, 64, 64) 7"
      ]
    },
    {
      "cell_type": "code",
      "execution_count": 9,
      "metadata": {
        "execution": {
          "iopub.execute_input": "2022-03-27T07:29:03.071175Z",
          "iopub.status.busy": "2022-03-27T07:29:03.070879Z",
          "iopub.status.idle": "2022-03-27T07:29:03.076074Z",
          "shell.execute_reply": "2022-03-27T07:29:03.075352Z",
          "shell.execute_reply.started": "2022-03-27T07:29:03.071127Z"
        },
        "id": "FExw7YHB1i23",
        "trusted": true
      },
      "outputs": [],
      "source": [
        "NBATCH=64"
      ]
    },
    {
      "cell_type": "code",
      "execution_count": 10,
      "metadata": {
        "colab": {
          "base_uri": "https://localhost:8080/"
        },
        "execution": {
          "iopub.execute_input": "2022-03-27T07:29:03.077761Z",
          "iopub.status.busy": "2022-03-27T07:29:03.077154Z",
          "iopub.status.idle": "2022-03-27T07:29:03.092119Z",
          "shell.execute_reply": "2022-03-27T07:29:03.091162Z",
          "shell.execute_reply.started": "2022-03-27T07:29:03.077723Z"
        },
        "id": "gykWMYtf1i24",
        "outputId": "542c104b-2e59-41c5-962d-d55fc83da2bd",
        "trusted": true
      },
      "outputs": [
        {
          "name": "stderr",
          "output_type": "stream",
          "text": [
            "/usr/local/lib/python3.7/dist-packages/torch/utils/data/dataloader.py:481: UserWarning: This DataLoader will create 4 worker processes in total. Our suggested max number of worker in current system is 2, which is smaller than what this DataLoader is going to create. Please be aware that excessive worker creation might get DataLoader running slow or even freeze, lower the worker number to avoid potential slowness/freeze if necessary.\n",
            "  cpuset_checked))\n"
          ]
        }
      ],
      "source": [
        "#convert dataset into pytorch dataloader\n",
        "train_loader = data.DataLoader(train_set, batch_size=NBATCH, shuffle=True, drop_last=True, pin_memory=True, num_workers=4)\n",
        "val_loader = data.DataLoader(val_set, batch_size=NBATCH, shuffle=False, drop_last=False, num_workers=4)\n",
        "test_loader = data.DataLoader(test_set, batch_size=NBATCH, shuffle=False, drop_last=False, num_workers=4)\n",
        "trainSteps = len(train_loader.dataset) // NBATCH\n",
        "valSteps = len(val_loader.dataset) // NBATCH"
      ]
    },
    {
      "cell_type": "code",
      "execution_count": 11,
      "metadata": {
        "execution": {
          "iopub.execute_input": "2022-03-27T07:29:03.094411Z",
          "iopub.status.busy": "2022-03-27T07:29:03.093782Z",
          "iopub.status.idle": "2022-03-27T07:29:03.099748Z",
          "shell.execute_reply": "2022-03-27T07:29:03.098794Z",
          "shell.execute_reply.started": "2022-03-27T07:29:03.094371Z"
        },
        "id": "n-U7O4Vl1i26",
        "trusted": true
      },
      "outputs": [],
      "source": [
        "#define loss function and optimizer \n",
        "criterion = nn.CrossEntropyLoss()\n"
      ]
    },
    {
      "cell_type": "code",
      "execution_count": 12,
      "metadata": {
        "id": "NOdkckrz19e9"
      },
      "outputs": [],
      "source": [
        "#define path to store best model\n",
        "import os\n",
        "if not os.path.exists('logs_resnet/'):\n",
        "  os.mkdir('logs_resnet/')\n",
        "model_name='logs_resnet/best_model_pretrained.pt'  #for resnet with pretrained\n",
        "model_name1='logs_resnet/best_model_not_pretrained.pt' # for resnet with not pretrained\n"
      ]
    },
    {
      "cell_type": "code",
      "execution_count": 13,
      "metadata": {
        "colab": {
          "base_uri": "https://localhost:8080/"
        },
        "id": "BA17nIalKN6j",
        "outputId": "caaec817-373e-4474-dd31-10cfa83a0c95"
      },
      "outputs": [
        {
          "name": "stdout",
          "output_type": "stream",
          "text": [
            "Mounted at /content/drive\n"
          ]
        }
      ],
      "source": [
        "'''\n",
        "This code block basically push the model to google drive\n",
        "'''\n",
        "#push the model to the directory on google drive, which is publicly visible\n",
        "#from google.colab import drive\n",
        "#drive.mount('/content/drive') \n",
        "\n",
        "#import os\n",
        "#if not os.path.exists('/content/drive/MyDrive/21CS60R39_assignment8/logs_resnet/'):\n",
        "#  os.mkdir('/content/drive/MyDrive/21CS60R39_assignment8/logs_resnet/')\n",
        "#model_name='/content/drive/MyDrive/21CS60R39_assignment8/logs_resnet/best_model_pretrained.pt'  #for resnet with pretrained\n",
        "#model_name1='/content/drive/MyDrive/21CS60R39_assignment8/logs_resnet/best_model_not_pretrained.pt' # for resnet with not pretrained\n"
      ]
    },
    {
      "cell_type": "code",
      "execution_count": 14,
      "metadata": {
        "execution": {
          "iopub.execute_input": "2022-03-27T07:29:03.101773Z",
          "iopub.status.busy": "2022-03-27T07:29:03.101534Z",
          "iopub.status.idle": "2022-03-27T07:29:03.118629Z",
          "shell.execute_reply": "2022-03-27T07:29:03.117873Z",
          "shell.execute_reply.started": "2022-03-27T07:29:03.101747Z"
        },
        "id": "nEJ71Bpulipt",
        "trusted": true
      },
      "outputs": [],
      "source": [
        "\n",
        "\n",
        "#define training method with early stopping criterion    \n",
        "def train_model(model, batchsize, patience, epochs,optim,train_losses,val_losses,train_acc,val_acc,modelname):\n",
        "    best_loss=1000000000\n",
        "    counter=0\n",
        "    #model_name='logs_cnn/best_model.pt'\n",
        "    for epoch in range(1, epochs + 1):\n",
        "        totalTrainLoss = 0\n",
        "        totalValLoss = 0\n",
        "        trainCorrect = 0\n",
        "        valCorrect = 0\n",
        "        model.train() \n",
        "        for batch, (data, target) in enumerate(train_loader, 1):\n",
        "            (data, target) = (data.to(device), target.to(device))\n",
        "            optim.zero_grad()\n",
        "            output = model(data)\n",
        "            loss = criterion(output, target)\n",
        "            loss.backward()\n",
        "            optim.step()\n",
        "            totalTrainLoss += loss\n",
        "            trainCorrect += (output.argmax(1) == target).type(torch.float).sum().item()\n",
        "            \n",
        "\n",
        "        with torch.no_grad():\n",
        "            model.eval() \n",
        "            for data, target in val_loader:\n",
        "                (data, target) = (data.to(device), target.to(device))\n",
        "                output = model(data)\n",
        "                loss = criterion(output, target)\n",
        "                totalValLoss += loss\n",
        "                valCorrect += (output.argmax(1) == target).type(torch.float).sum().item()\n",
        "        \n",
        "        avgTrainLoss = totalTrainLoss / trainSteps\n",
        "        avgValLoss = totalValLoss / valSteps\n",
        "        trainCorrect = trainCorrect / len(train_loader.dataset)\n",
        "        valCorrect = valCorrect / len(val_loader.dataset)\n",
        "        train_losses.append(avgTrainLoss.cpu().detach().numpy())\n",
        "        train_acc.append(trainCorrect)\n",
        "        val_losses.append(avgValLoss.cpu().detach().numpy())\n",
        "        val_acc.append(valCorrect)\n",
        "        \n",
        "        print(\"EPOCH: {}/{}\".format(epoch, n_epochs))\n",
        "        print(\"Train loss: {:.5f}, Train accuracy: {:.5f}\".format(avgTrainLoss, trainCorrect))\n",
        "        print(\"Val loss: {:.5f}, Val accuracy: {:.5f}\\n\".format(avgValLoss, valCorrect))\n",
        "        if avgValLoss < best_loss:\n",
        "            best_loss = avgValLoss\n",
        "            counter = 0\n",
        "            torch.save(model.state_dict(), modelname)\n",
        "            \n",
        "        else:\n",
        "            counter += 1\n",
        "            \n",
        "            if counter> patience :\n",
        "                print(\"Early stopping with minimum validation loss: \", best_loss)\n",
        "                break\n",
        "   \n",
        "    checkpoint = torch.load(modelname)\n",
        "    model.load_state_dict(checkpoint)\n",
        "\n",
        "    return  model,best_loss"
      ]
    },
    {
      "cell_type": "code",
      "execution_count": 15,
      "metadata": {
        "id": "rWNfxAdZx5aa"
      },
      "outputs": [],
      "source": [
        "patience=8\n",
        "n_epochs=50\n",
        "import copy\n",
        "\n",
        "\n",
        "\n",
        "def grid_search(lrs):\n",
        "  best_model=None\n",
        "  best_loss=None\n",
        "  best_lr=None\n",
        "  train_losses=[]\n",
        "  val_losses=[]\n",
        "  train_acc=[]\n",
        "  val_acc=[]\n",
        "\n",
        "  for i in lrs:\n",
        "    print('Learning rate',i)\n",
        "    tempmodel=copy.deepcopy(resnet_model)\n",
        "    opt=torch.optim.Adam(tempmodel.parameters(),lr=i)\n",
        "    tempmodel,val_loss=train_model(tempmodel,NBATCH,patience,n_epochs,opt,train_losses,val_losses,train_acc,val_acc,model_name)\n",
        "    if best_model is None:\n",
        "      best_model=tempmodel\n",
        "      best_loss=val_loss\n",
        "      best_lr=i\n",
        "      best_train_losses = train_losses.copy()\n",
        "      best_val_losses = val_losses.copy()\n",
        "      best_train_acc= train_acc.copy()\n",
        "      best_val_acc=val_acc.copy()\n",
        " \n",
        "    elif best_loss>val_loss:\n",
        "      best_model=tempmodel\n",
        "      best_loss=val_loss\n",
        "      best_lr=i\n",
        "      best_train_losses = train_losses.copy()\n",
        "      best_val_losses = val_losses.copy()\n",
        "      best_train_acc= train_acc.copy()\n",
        "      best_val_acc=val_acc.copy()\n",
        " \n",
        "    train_losses.clear()\n",
        "    val_losses.clear()\n",
        "    train_acc.clear()\n",
        "    val_acc.clear()\n",
        " \n",
        "    print('###########################################################')\n",
        "  torch.save(best_model.state_dict(), model_name)\n",
        "  print(\"Best Learning Rate\",best_lr)\n",
        "  return best_train_losses,best_val_losses,best_train_acc,best_val_acc"
      ]
    },
    {
      "cell_type": "code",
      "execution_count": 16,
      "metadata": {
        "colab": {
          "base_uri": "https://localhost:8080/"
        },
        "id": "CutBXyvdzt1N",
        "outputId": "32aad3d6-13d9-45c9-c7f2-c1f33db9ccf0"
      },
      "outputs": [
        {
          "name": "stdout",
          "output_type": "stream",
          "text": [
            "Learning rate 0.001\n"
          ]
        },
        {
          "name": "stderr",
          "output_type": "stream",
          "text": [
            "/usr/local/lib/python3.7/dist-packages/torch/utils/data/dataloader.py:481: UserWarning: This DataLoader will create 4 worker processes in total. Our suggested max number of worker in current system is 2, which is smaller than what this DataLoader is going to create. Please be aware that excessive worker creation might get DataLoader running slow or even freeze, lower the worker number to avoid potential slowness/freeze if necessary.\n",
            "  cpuset_checked))\n"
          ]
        },
        {
          "name": "stdout",
          "output_type": "stream",
          "text": [
            "EPOCH: 1/50\n",
            "Train loss: 0.39079, Train accuracy: 0.87383\n",
            "Val loss: 0.26706, Val accuracy: 0.92272\n",
            "\n",
            "EPOCH: 2/50\n",
            "Train loss: 0.22365, Train accuracy: 0.92603\n",
            "Val loss: 0.28210, Val accuracy: 0.91239\n",
            "\n",
            "EPOCH: 3/50\n",
            "Train loss: 0.17400, Train accuracy: 0.94077\n",
            "Val loss: 0.20323, Val accuracy: 0.93590\n",
            "\n",
            "EPOCH: 4/50\n",
            "Train loss: 0.13596, Train accuracy: 0.95322\n",
            "Val loss: 0.18226, Val accuracy: 0.94409\n",
            "\n",
            "EPOCH: 5/50\n",
            "Train loss: 0.11040, Train accuracy: 0.96163\n",
            "Val loss: 0.55807, Val accuracy: 0.84366\n",
            "\n",
            "EPOCH: 6/50\n",
            "Train loss: 0.11222, Train accuracy: 0.96243\n",
            "Val loss: 0.30594, Val accuracy: 0.91097\n",
            "\n",
            "EPOCH: 7/50\n",
            "Train loss: 0.08444, Train accuracy: 0.97142\n",
            "Val loss: 0.38155, Val accuracy: 0.90171\n",
            "\n",
            "EPOCH: 8/50\n",
            "Train loss: 0.08024, Train accuracy: 0.97249\n",
            "Val loss: 0.20178, Val accuracy: 0.94195\n",
            "\n",
            "EPOCH: 9/50\n",
            "Train loss: 0.06899, Train accuracy: 0.97595\n",
            "Val loss: 0.77165, Val accuracy: 0.85114\n",
            "\n",
            "EPOCH: 10/50\n",
            "Train loss: 0.06171, Train accuracy: 0.97776\n",
            "Val loss: 0.35082, Val accuracy: 0.91204\n",
            "\n",
            "EPOCH: 11/50\n",
            "Train loss: 0.06984, Train accuracy: 0.97579\n",
            "Val loss: 0.33296, Val accuracy: 0.90313\n",
            "\n",
            "EPOCH: 12/50\n",
            "Train loss: 0.05194, Train accuracy: 0.98159\n",
            "Val loss: 0.22227, Val accuracy: 0.94444\n",
            "\n",
            "EPOCH: 13/50\n",
            "Train loss: 0.05194, Train accuracy: 0.98036\n",
            "Val loss: 0.32204, Val accuracy: 0.91809\n",
            "\n",
            "Early stopping with minimum validation loss:  tensor(0.1823, device='cuda:0')\n",
            "###########################################################\n",
            "Learning rate 0.0002\n",
            "EPOCH: 1/50\n",
            "Train loss: 0.29518, Train accuracy: 0.90262\n",
            "Val loss: 0.17535, Val accuracy: 0.94409\n",
            "\n",
            "EPOCH: 2/50\n",
            "Train loss: 0.11988, Train accuracy: 0.96110\n",
            "Val loss: 0.11646, Val accuracy: 0.96261\n",
            "\n",
            "EPOCH: 3/50\n",
            "Train loss: 0.06663, Train accuracy: 0.97632\n",
            "Val loss: 0.15751, Val accuracy: 0.95228\n",
            "\n",
            "EPOCH: 4/50\n",
            "Train loss: 0.06286, Train accuracy: 0.97691\n",
            "Val loss: 0.17344, Val accuracy: 0.95335\n",
            "\n",
            "EPOCH: 5/50\n",
            "Train loss: 0.04569, Train accuracy: 0.98255\n",
            "Val loss: 0.15521, Val accuracy: 0.95548\n",
            "\n",
            "EPOCH: 6/50\n",
            "Train loss: 0.03654, Train accuracy: 0.98622\n",
            "Val loss: 0.32307, Val accuracy: 0.91667\n",
            "\n",
            "EPOCH: 7/50\n",
            "Train loss: 0.03700, Train accuracy: 0.98558\n",
            "Val loss: 0.23756, Val accuracy: 0.94551\n",
            "\n",
            "EPOCH: 8/50\n",
            "Train loss: 0.04146, Train accuracy: 0.98420\n",
            "Val loss: 0.16463, Val accuracy: 0.95584\n",
            "\n",
            "EPOCH: 9/50\n",
            "Train loss: 0.03148, Train accuracy: 0.98845\n",
            "Val loss: 0.17845, Val accuracy: 0.95620\n",
            "\n",
            "EPOCH: 10/50\n",
            "Train loss: 0.02363, Train accuracy: 0.99042\n",
            "Val loss: 0.18114, Val accuracy: 0.96011\n",
            "\n",
            "EPOCH: 11/50\n",
            "Train loss: 0.02706, Train accuracy: 0.99000\n",
            "Val loss: 0.21003, Val accuracy: 0.94338\n",
            "\n",
            "Early stopping with minimum validation loss:  tensor(0.1165, device='cuda:0')\n",
            "###########################################################\n",
            "Learning rate 4e-05\n",
            "EPOCH: 1/50\n",
            "Train loss: 0.48407, Train accuracy: 0.85153\n",
            "Val loss: 0.18215, Val accuracy: 0.94444\n",
            "\n",
            "EPOCH: 2/50\n",
            "Train loss: 0.12564, Train accuracy: 0.95812\n",
            "Val loss: 0.13927, Val accuracy: 0.95620\n",
            "\n",
            "EPOCH: 3/50\n",
            "Train loss: 0.06574, Train accuracy: 0.97802\n",
            "Val loss: 0.12191, Val accuracy: 0.95905\n",
            "\n",
            "EPOCH: 4/50\n",
            "Train loss: 0.03794, Train accuracy: 0.98712\n",
            "Val loss: 0.14062, Val accuracy: 0.95905\n",
            "\n",
            "EPOCH: 5/50\n",
            "Train loss: 0.02724, Train accuracy: 0.99037\n",
            "Val loss: 0.12379, Val accuracy: 0.96296\n",
            "\n",
            "EPOCH: 6/50\n",
            "Train loss: 0.01744, Train accuracy: 0.99377\n",
            "Val loss: 0.11701, Val accuracy: 0.96546\n",
            "\n",
            "EPOCH: 7/50\n",
            "Train loss: 0.01239, Train accuracy: 0.99516\n",
            "Val loss: 0.12552, Val accuracy: 0.96296\n",
            "\n",
            "EPOCH: 8/50\n",
            "Train loss: 0.01249, Train accuracy: 0.99457\n",
            "Val loss: 0.13735, Val accuracy: 0.96439\n",
            "\n",
            "EPOCH: 9/50\n",
            "Train loss: 0.01113, Train accuracy: 0.99489\n",
            "Val loss: 0.13060, Val accuracy: 0.96403\n",
            "\n",
            "EPOCH: 10/50\n",
            "Train loss: 0.00851, Train accuracy: 0.99606\n",
            "Val loss: 0.12160, Val accuracy: 0.96830\n",
            "\n",
            "EPOCH: 11/50\n",
            "Train loss: 0.00582, Train accuracy: 0.99633\n",
            "Val loss: 0.13653, Val accuracy: 0.96474\n",
            "\n",
            "EPOCH: 12/50\n",
            "Train loss: 0.01038, Train accuracy: 0.99489\n",
            "Val loss: 0.17017, Val accuracy: 0.95726\n",
            "\n",
            "EPOCH: 13/50\n",
            "Train loss: 0.01072, Train accuracy: 0.99447\n",
            "Val loss: 0.15541, Val accuracy: 0.96617\n",
            "\n",
            "EPOCH: 14/50\n",
            "Train loss: 0.00907, Train accuracy: 0.99537\n",
            "Val loss: 0.15844, Val accuracy: 0.95976\n",
            "\n",
            "EPOCH: 15/50\n",
            "Train loss: 0.01005, Train accuracy: 0.99489\n",
            "Val loss: 0.16358, Val accuracy: 0.95976\n",
            "\n",
            "Early stopping with minimum validation loss:  tensor(0.1170, device='cuda:0')\n",
            "###########################################################\n",
            "Best Learning Rate 0.0002\n"
          ]
        }
      ],
      "source": [
        "best_train_losses,best_val_losses,best_train_acc,best_val_acc=grid_search([0.001,0.0002,0.00004])"
      ]
    },
    {
      "cell_type": "code",
      "execution_count": 17,
      "metadata": {
        "colab": {
          "base_uri": "https://localhost:8080/"
        },
        "id": "n5PcaDhnRDLh",
        "outputId": "d12956a7-ed4c-4071-cb6a-951355d0827a"
      },
      "outputs": [
        {
          "name": "stdout",
          "output_type": "stream",
          "text": [
            "--2022-04-05 15:49:47--  https://docs.google.com/uc?export=download&confirm=t&id=1-2wmCjJdjDZk6e0JPPWMNG6esH4V22dT\n",
            "Resolving docs.google.com (docs.google.com)... 209.85.200.138, 209.85.200.101, 209.85.200.113, ...\n",
            "Connecting to docs.google.com (docs.google.com)|209.85.200.138|:443... connected.\n",
            "HTTP request sent, awaiting response... 303 See Other\n",
            "Location: https://doc-10-b8-docs.googleusercontent.com/docs/securesc/ha0ro937gcuc7l7deffksulhg5h7mbp1/j94hi5c7dm61qvpo4eh06oo5rp4sallu/1649173725000/11335180243043672040/*/1-2wmCjJdjDZk6e0JPPWMNG6esH4V22dT?e=download [following]\n",
            "Warning: wildcards not supported in HTTP.\n",
            "--2022-04-05 15:49:47--  https://doc-10-b8-docs.googleusercontent.com/docs/securesc/ha0ro937gcuc7l7deffksulhg5h7mbp1/j94hi5c7dm61qvpo4eh06oo5rp4sallu/1649173725000/11335180243043672040/*/1-2wmCjJdjDZk6e0JPPWMNG6esH4V22dT?e=download\n",
            "Resolving doc-10-b8-docs.googleusercontent.com (doc-10-b8-docs.googleusercontent.com)... 74.125.126.132, 2607:f8b0:4001:c1d::84\n",
            "Connecting to doc-10-b8-docs.googleusercontent.com (doc-10-b8-docs.googleusercontent.com)|74.125.126.132|:443... connected.\n",
            "HTTP request sent, awaiting response... 200 OK\n",
            "Length: 44804557 (43M) [application/x-zip]\n",
            "Saving to: ‘logs_resnet/best_model_pretrained.pt’\n",
            "\n",
            "logs_resnet/best_mo 100%[===================>]  42.73M   165MB/s    in 0.3s    \n",
            "\n",
            "2022-04-05 15:49:48 (165 MB/s) - ‘logs_resnet/best_model_pretrained.pt’ saved [44804557/44804557]\n",
            "\n"
          ]
        }
      ],
      "source": [
        "#download model \n",
        "!wget --load-cookies /tmp/cookies.txt \"https://docs.google.com/uc?export=download&confirm=$(wget --quiet --save-cookies /tmp/cookies.txt --keep-session-cookies --no-check-certificate 'https://docs.google.com/uc?export=download&id=1-2wmCjJdjDZk6e0JPPWMNG6esH4V22dT' -O- | sed -rn 's/.*confirm=([0-9A-Za-z_]+).*/\\1\\n/p')&id=1-2wmCjJdjDZk6e0JPPWMNG6esH4V22dT\" -O logs_resnet/best_model_pretrained.pt && rm -rf /tmp/cookies.txt"
      ]
    },
    {
      "cell_type": "code",
      "execution_count": 18,
      "metadata": {
        "execution": {
          "iopub.execute_input": "2022-03-27T07:29:03.122952Z",
          "iopub.status.busy": "2022-03-27T07:29:03.122375Z",
          "iopub.status.idle": "2022-03-27T07:31:31.858309Z",
          "shell.execute_reply": "2022-03-27T07:31:31.857528Z",
          "shell.execute_reply.started": "2022-03-27T07:29:03.122926Z"
        },
        "id": "bOVn4NfG1i2_",
        "trusted": true
      },
      "outputs": [],
      "source": [
        "checkpoint = torch.load('logs_resnet/best_model_pretrained.pt')\n",
        "resnet_model.load_state_dict(checkpoint)\n",
        "resnet_model=resnet_model.to(device)"
      ]
    },
    {
      "cell_type": "code",
      "execution_count": 19,
      "metadata": {
        "colab": {
          "base_uri": "https://localhost:8080/"
        },
        "id": "0vbhimpE2f2D",
        "outputId": "4e4d339b-690d-4a77-cec2-5dd788ee323b"
      },
      "outputs": [
        {
          "name": "stderr",
          "output_type": "stream",
          "text": [
            "/usr/local/lib/python3.7/dist-packages/torch/utils/data/dataloader.py:481: UserWarning: This DataLoader will create 4 worker processes in total. Our suggested max number of worker in current system is 2, which is smaller than what this DataLoader is going to create. Please be aware that excessive worker creation might get DataLoader running slow or even freeze, lower the worker number to avoid potential slowness/freeze if necessary.\n",
            "  cpuset_checked))\n"
          ]
        },
        {
          "name": "stdout",
          "output_type": "stream",
          "text": [
            "validation accuracy 0.9626068376068376\n"
          ]
        }
      ],
      "source": [
        "#check the validation accuracy\n",
        "val_correct=0\n",
        "with torch.no_grad():\n",
        "  resnet_model.eval()\n",
        "  for (x, y) in val_loader:\n",
        "    x = x.to(device)\n",
        "    pred = resnet_model(x)\n",
        "    val_correct += (pred.argmax(1).to(device) == y.to(device)).type(torch.float).sum().item()\n",
        "\n",
        "val_correct = val_correct / len(val_loader.dataset)\n",
        "print('validation accuracy',val_correct)\n"
      ]
    },
    {
      "cell_type": "code",
      "execution_count": 20,
      "metadata": {
        "colab": {
          "base_uri": "https://localhost:8080/"
        },
        "id": "HYamoMAS2jzM",
        "outputId": "65972eab-0995-4984-b589-88e71df6a8c2"
      },
      "outputs": [
        {
          "name": "stderr",
          "output_type": "stream",
          "text": [
            "/usr/local/lib/python3.7/dist-packages/torch/utils/data/dataloader.py:481: UserWarning: This DataLoader will create 4 worker processes in total. Our suggested max number of worker in current system is 2, which is smaller than what this DataLoader is going to create. Please be aware that excessive worker creation might get DataLoader running slow or even freeze, lower the worker number to avoid potential slowness/freeze if necessary.\n",
            "  cpuset_checked))\n"
          ]
        },
        {
          "name": "stdout",
          "output_type": "stream",
          "text": [
            "Test accuracy 0.9592592592592593\n"
          ]
        }
      ],
      "source": [
        "#check test accuracy\n",
        "test_correct=0\n",
        "import torchvision.transforms.functional as TF\n",
        "prediction = []\n",
        "list1=[]\n",
        "\t\n",
        "with torch.no_grad():\n",
        "\tresnet_model.eval()\n",
        "\tfor (x, y) in test_loader:\n",
        "\t\tx = x.to(device)\n",
        "\t\ty=y.to(device)\n",
        "\t\tpred = resnet_model(x)\n",
        "\t\tprediction.extend(pred.argmax(axis=1).cpu().numpy())\n",
        "\t\ttest_correct += (pred.argmax(1).to(device) == y.to(device)).type(torch.float).sum().item()\n",
        "\t\tprobs=pred.max(dim=1)[0].to(device)\n",
        "\t\tpred = pred.argmax(dim=1, keepdim=True).to(device)\n",
        "\t\twrong_idx = (pred != y.view_as(pred)).nonzero()[:, 0]\n",
        "\t\twrong_samples = x[wrong_idx]\n",
        "\t\twrong_preds = pred[wrong_idx]\n",
        "\t\tconfidence_score=probs[wrong_idx]\n",
        "\t\tactual_preds = y.view_as(pred)[wrong_idx]\n",
        "\t\tfor i in range(len(wrong_idx)):\n",
        "\t\t\t\ts = wrong_samples[i]\n",
        "\t\t\t\ts = s * 255.  # convert to original image\n",
        "\t\t\t\ts = s.byte()\n",
        "\t\t\t\timg = TF.to_pil_image(s)\n",
        "\t\t\t\tlist1.append((confidence_score[i],img,wrong_preds[i],actual_preds[i]))\n",
        "\t\t\t\n",
        "test_correct = test_correct / len(test_loader.dataset)\n",
        "print('Test accuracy',test_correct)\n",
        "\n"
      ]
    },
    {
      "cell_type": "code",
      "execution_count": 21,
      "metadata": {
        "colab": {
          "base_uri": "https://localhost:8080/",
          "height": 412
        },
        "id": "BvxOz0k0J0jW",
        "outputId": "34a43832-1977-4e94-a429-2c93066363dc"
      },
      "outputs": [
        {
          "name": "stdout",
          "output_type": "stream",
          "text": [
            "Confidence Score: 10.181447982788086 Predicted Class: Residential Actual Class: Industrial\n"
          ]
        },
        {
          "data": {
            "image/png": "[encoded data removed]",
            "text/plain": [
              "<PIL.Image.Image image mode=RGB size=64x64 at 0x7F98DD3E7D90>"
            ]
          },
          "metadata": {},
          "output_type": "display_data"
        },
        {
          "name": "stdout",
          "output_type": "stream",
          "text": [
            "-----------------------------------------------------------------------\n",
            "Confidence Score: 9.634322166442871 Predicted Class: Highway Actual Class: River\n"
          ]
        },
        {
          "data": {
            "image/png": "[encoded data removed]",
            "text/plain": [
              "<PIL.Image.Image image mode=RGB size=64x64 at 0x7F98DD2163D0>"
            ]
          },
          "metadata": {},
          "output_type": "display_data"
        },
        {
          "name": "stdout",
          "output_type": "stream",
          "text": [
            "-----------------------------------------------------------------------\n",
            "Confidence Score: 8.971275329589844 Predicted Class: River Actual Class: Highway\n"
          ]
        },
        {
          "data": {
            "image/png": "[encoded data removed]",
            "text/plain": [
              "<PIL.Image.Image image mode=RGB size=64x64 at 0x7F98DDB61B90>"
            ]
          },
          "metadata": {},
          "output_type": "display_data"
        },
        {
          "name": "stdout",
          "output_type": "stream",
          "text": [
            "-----------------------------------------------------------------------\n",
            "Confidence Score: 8.936596870422363 Predicted Class: Highway Actual Class: River\n"
          ]
        },
        {
          "data": {
            "image/png": "[encoded data removed]",
            "text/plain": [
              "<PIL.Image.Image image mode=RGB size=64x64 at 0x7F98DDE57910>"
            ]
          },
          "metadata": {},
          "output_type": "display_data"
        },
        {
          "name": "stdout",
          "output_type": "stream",
          "text": [
            "-----------------------------------------------------------------------\n"
          ]
        }
      ],
      "source": [
        "#visualize 4 wrong prediction\n",
        "op_name=['AnnualCrop','Forest','HerbaceousVegetation','Highway','Industrial','Pasture','PermanentCrop','Residential','River','SeaLake']\n",
        "list1.sort(reverse=True)\n",
        "for i in range(4):\n",
        "  print('Confidence Score:',list1[i][0].item(),'Predicted Class:',op_name[list1[i][2].item()],'Actual Class:',op_name[list1[i][3].item()])\n",
        "  display(list1[i][1])\n",
        "  print('-----------------------------------------------------------------------')"
      ]
    },
    {
      "cell_type": "code",
      "execution_count": 22,
      "metadata": {
        "colab": {
          "base_uri": "https://localhost:8080/"
        },
        "id": "Oh4DeFGS2muH",
        "outputId": "0425fb10-1246-47cf-c449-acc72b9c71da"
      },
      "outputs": [
        {
          "name": "stdout",
          "output_type": "stream",
          "text": [
            "              precision    recall  f1-score   support\n",
            "\n",
            "           0       0.95      0.94      0.95       600\n",
            "           1       0.99      0.99      0.99       600\n",
            "           2       0.93      0.96      0.95       600\n",
            "           3       0.95      0.93      0.94       500\n",
            "           4       0.98      0.97      0.98       500\n",
            "           5       0.91      0.95      0.93       400\n",
            "           6       0.97      0.88      0.92       500\n",
            "           7       0.97      0.99      0.98       600\n",
            "           8       0.94      0.95      0.94       500\n",
            "           9       0.99      1.00      0.99       600\n",
            "\n",
            "    accuracy                           0.96      5400\n",
            "   macro avg       0.96      0.96      0.96      5400\n",
            "weighted avg       0.96      0.96      0.96      5400\n",
            "\n"
          ]
        }
      ],
      "source": [
        "#classification report on test dataset\n",
        "labels= [val[1] for val in test_set]\n",
        "\n",
        "print(classification_report(np.array(labels),np.array(prediction)))"
      ]
    },
    {
      "cell_type": "code",
      "execution_count": 23,
      "metadata": {
        "colab": {
          "base_uri": "https://localhost:8080/",
          "height": 297
        },
        "execution": {
          "iopub.execute_input": "2022-03-27T07:31:31.863158Z",
          "iopub.status.busy": "2022-03-27T07:31:31.862662Z",
          "iopub.status.idle": "2022-03-27T07:31:33.037849Z",
          "shell.execute_reply": "2022-03-27T07:31:33.036982Z",
          "shell.execute_reply.started": "2022-03-27T07:31:31.863118Z"
        },
        "id": "Ax51KKMf1i3A",
        "outputId": "ca9d50d5-a181-410d-cea5-aa851694c81b",
        "trusted": true
      },
      "outputs": [
        {
          "data": {
            "text/plain": [
              "<sklearn.metrics._plot.confusion_matrix.ConfusionMatrixDisplay at 0x7f98dd3a2ed0>"
            ]
          },
          "execution_count": 23,
          "metadata": {},
          "output_type": "execute_result"
        },
        {
          "data": {
            "image/png": "[encoded data removed]",
            "text/plain": [
              "<Figure size 432x288 with 2 Axes>"
            ]
          },
          "metadata": {
            "needs_background": "light"
          },
          "output_type": "display_data"
        }
      ],
      "source": [
        "#heatmap for test dataset\n",
        "from sklearn.metrics import confusion_matrix, ConfusionMatrixDisplay\n",
        "cm = confusion_matrix(labels, prediction)\n",
        "disp = ConfusionMatrixDisplay(confusion_matrix=cm)\n",
        "disp.plot()"
      ]
    },
    {
      "cell_type": "code",
      "execution_count": 24,
      "metadata": {
        "colab": {
          "base_uri": "https://localhost:8080/",
          "height": 195
        },
        "id": "WUcOPR7T1i3B",
        "outputId": "6a0a4e30-e154-465d-f4ce-c78028fc5c86"
      },
      "outputs": [
        {
          "data": {
            "text/plain": [
              "<matplotlib.legend.Legend at 0x7f98dc18c3d0>"
            ]
          },
          "execution_count": 24,
          "metadata": {},
          "output_type": "execute_result"
        },
        {
          "data": {
            "image/png": "[encoded data removed]",
            "text/plain": [
              "<Figure size 432x288 with 1 Axes>"
            ]
          },
          "metadata": {
            "needs_background": "light"
          },
          "output_type": "display_data"
        }
      ],
      "source": [
        "import matplotlib.pyplot as plt\n",
        "epochs=list(range(1,len(best_train_acc)+1))\n",
        "plt.subplot(2,1,1)\n",
        "plt.plot(epochs,best_train_losses,label='train')\n",
        "plt.plot(epochs,best_val_losses,label='val')\n",
        "plt.title('model loss')\n",
        "plt.ylabel('loss')\n",
        "plt.xlabel('epoch')\n",
        "plt.legend()"
      ]
    },
    {
      "cell_type": "code",
      "execution_count": 25,
      "metadata": {
        "colab": {
          "base_uri": "https://localhost:8080/",
          "height": 195
        },
        "id": "Ld2FlKa42r1C",
        "outputId": "5445a807-f712-492c-db72-7eaf992818b2"
      },
      "outputs": [
        {
          "data": {
            "text/plain": [
              "<matplotlib.legend.Legend at 0x7f98dbd05350>"
            ]
          },
          "execution_count": 25,
          "metadata": {},
          "output_type": "execute_result"
        },
        {
          "data": {
            "image/png": "[encoded data removed]",
            "text/plain": [
              "<Figure size 432x288 with 1 Axes>"
            ]
          },
          "metadata": {
            "needs_background": "light"
          },
          "output_type": "display_data"
        }
      ],
      "source": [
        "epochs=list(range(1,len(best_train_acc)+1))\n",
        "plt.subplot(2,1,1)\n",
        "plt.plot(epochs,best_train_acc,label='train')\n",
        "plt.plot(epochs,best_val_acc,label='val')\n",
        "plt.title('model accuracy')\n",
        "plt.ylabel('accuracy')\n",
        "plt.xlabel('epoch')\n",
        "plt.legend()"
      ]
    },
    {
      "cell_type": "code",
      "execution_count": 26,
      "metadata": {
        "id": "eClfk_wH2wVL"
      },
      "outputs": [],
      "source": [
        "ids=[i for i in range(len(test_loader.dataset))]\n",
        "my_submission = pd.DataFrame({'id': ids, 'label': prediction})\n",
        "my_submission.to_csv('submission_task2a.csv', index=False)"
      ]
    },
    {
      "cell_type": "markdown",
      "metadata": {
        "id": "4dadZE4SK3c3"
      },
      "source": [
        "# Resnet(pretrained=False)"
      ]
    },
    {
      "cell_type": "code",
      "execution_count": 27,
      "metadata": {
        "id": "7VxVhPmfC6aL"
      },
      "outputs": [],
      "source": [
        "#import the resnet model with pretrained false\n",
        "resnet_not_pretrained_model = models.resnet18(pretrained=False)\n",
        "num_inp = resnet_not_pretrained_model.fc.in_features\n",
        "resnet_not_pretrained_model.fc = nn.Linear(num_inp, 10)\n",
        "\n"
      ]
    },
    {
      "cell_type": "code",
      "execution_count": 28,
      "metadata": {
        "colab": {
          "base_uri": "https://localhost:8080/"
        },
        "id": "ZtOze1A4JArF",
        "outputId": "fd9b3447-bff6-4775-dda5-1eb3ba2363a0"
      },
      "outputs": [
        {
          "name": "stderr",
          "output_type": "stream",
          "text": [
            "/usr/local/lib/python3.7/dist-packages/torch/utils/data/dataloader.py:481: UserWarning: This DataLoader will create 4 worker processes in total. Our suggested max number of worker in current system is 2, which is smaller than what this DataLoader is going to create. Please be aware that excessive worker creation might get DataLoader running slow or even freeze, lower the worker number to avoid potential slowness/freeze if necessary.\n",
            "  cpuset_checked))\n"
          ]
        },
        {
          "name": "stdout",
          "output_type": "stream",
          "text": [
            "EPOCH: 1/50\n",
            "Train loss: 0.83911, Train accuracy: 0.69620\n",
            "Val loss: 0.76966, Val accuracy: 0.72756\n",
            "\n",
            "EPOCH: 2/50\n",
            "Train loss: 0.55609, Train accuracy: 0.79901\n",
            "Val loss: 1.17473, Val accuracy: 0.60150\n",
            "\n",
            "EPOCH: 3/50\n",
            "Train loss: 0.41713, Train accuracy: 0.85052\n",
            "Val loss: 1.19258, Val accuracy: 0.68732\n",
            "\n",
            "EPOCH: 4/50\n",
            "Train loss: 0.33437, Train accuracy: 0.88218\n",
            "Val loss: 1.49593, Val accuracy: 0.63782\n",
            "\n",
            "EPOCH: 5/50\n",
            "Train loss: 0.24457, Train accuracy: 0.91161\n",
            "Val loss: 1.35389, Val accuracy: 0.67379\n",
            "\n",
            "EPOCH: 6/50\n",
            "Train loss: 0.19562, Train accuracy: 0.93125\n",
            "Val loss: 0.83870, Val accuracy: 0.75748\n",
            "\n",
            "EPOCH: 7/50\n",
            "Train loss: 0.17102, Train accuracy: 0.93806\n",
            "Val loss: 0.66333, Val accuracy: 0.80876\n",
            "\n",
            "EPOCH: 8/50\n",
            "Train loss: 0.14529, Train accuracy: 0.94758\n",
            "Val loss: 0.72222, Val accuracy: 0.81375\n",
            "\n",
            "EPOCH: 9/50\n",
            "Train loss: 0.12025, Train accuracy: 0.95679\n",
            "Val loss: 1.38447, Val accuracy: 0.70299\n",
            "\n",
            "EPOCH: 10/50\n",
            "Train loss: 0.10769, Train accuracy: 0.96099\n",
            "Val loss: 1.62690, Val accuracy: 0.65634\n",
            "\n",
            "EPOCH: 11/50\n",
            "Train loss: 0.09880, Train accuracy: 0.96397\n",
            "Val loss: 1.30494, Val accuracy: 0.69480\n",
            "\n",
            "EPOCH: 12/50\n",
            "Train loss: 0.09178, Train accuracy: 0.96679\n",
            "Val loss: 0.78615, Val accuracy: 0.79274\n",
            "\n",
            "EPOCH: 13/50\n",
            "Train loss: 0.08104, Train accuracy: 0.97052\n",
            "Val loss: 2.60697, Val accuracy: 0.58405\n",
            "\n",
            "EPOCH: 14/50\n",
            "Train loss: 0.08654, Train accuracy: 0.96903\n",
            "Val loss: 0.96503, Val accuracy: 0.74822\n",
            "\n",
            "EPOCH: 15/50\n",
            "Train loss: 0.06410, Train accuracy: 0.97573\n",
            "Val loss: 1.08462, Val accuracy: 0.76389\n",
            "\n",
            "EPOCH: 16/50\n",
            "Train loss: 0.07793, Train accuracy: 0.97137\n",
            "Val loss: 1.01278, Val accuracy: 0.78882\n",
            "\n",
            "Early stopping with minimum validation loss:  tensor(0.6633, device='cuda:0')\n"
          ]
        }
      ],
      "source": [
        "train_losses=[]\n",
        "val_losses=[]\n",
        "train_acc=[]\n",
        "val_acc=[]\n",
        "resnet_not_pretrained_model=resnet_not_pretrained_model.to(device)\n",
        "opt=torch.optim.Adam(resnet_not_pretrained_model.parameters(),lr=0.0002) #we are getting best accuracy at lr=0.0002 for resnet(pretrained=True). Thus using the same lr for resnet(pretrained=False)\n",
        "resnet_not_pretrained_model,_=train_model(resnet_not_pretrained_model,NBATCH,patience,n_epochs,opt,train_losses,val_losses,train_acc,val_acc,model_name1)\n",
        "    "
      ]
    },
    {
      "cell_type": "code",
      "execution_count": 29,
      "metadata": {
        "colab": {
          "base_uri": "https://localhost:8080/"
        },
        "id": "NEi8UZB-KFNA",
        "outputId": "5f15b4ef-6f08-4d02-abca-286820fe677e"
      },
      "outputs": [
        {
          "name": "stdout",
          "output_type": "stream",
          "text": [
            "--2022-04-05 16:02:16--  https://docs.google.com/uc?export=download&confirm=t&id=1-3LLcZoLYSocA6Wq7HWN2RW032P7QcDJ\n",
            "Resolving docs.google.com (docs.google.com)... 74.125.129.113, 74.125.129.101, 74.125.129.102, ...\n",
            "Connecting to docs.google.com (docs.google.com)|74.125.129.113|:443... connected.\n",
            "HTTP request sent, awaiting response... 303 See Other\n",
            "Location: https://doc-08-b8-docs.googleusercontent.com/docs/securesc/ha0ro937gcuc7l7deffksulhg5h7mbp1/e5pcjokv2fo19pp5sm5ve2go5njdv8sf/1649174475000/11335180243043672040/*/1-3LLcZoLYSocA6Wq7HWN2RW032P7QcDJ?e=download [following]\n",
            "Warning: wildcards not supported in HTTP.\n",
            "--2022-04-05 16:02:16--  https://doc-08-b8-docs.googleusercontent.com/docs/securesc/ha0ro937gcuc7l7deffksulhg5h7mbp1/e5pcjokv2fo19pp5sm5ve2go5njdv8sf/1649174475000/11335180243043672040/*/1-3LLcZoLYSocA6Wq7HWN2RW032P7QcDJ?e=download\n",
            "Resolving doc-08-b8-docs.googleusercontent.com (doc-08-b8-docs.googleusercontent.com)... 74.125.126.132, 2607:f8b0:4001:c1d::84\n",
            "Connecting to doc-08-b8-docs.googleusercontent.com (doc-08-b8-docs.googleusercontent.com)|74.125.126.132|:443... connected.\n",
            "HTTP request sent, awaiting response... 200 OK\n",
            "Length: 44804557 (43M) [application/x-zip]\n",
            "Saving to: ‘logs_resnet/best_model_not_pretrained.pt’\n",
            "\n",
            "logs_resnet/best_mo 100%[===================>]  42.73M   159MB/s    in 0.3s    \n",
            "\n",
            "2022-04-05 16:02:16 (159 MB/s) - ‘logs_resnet/best_model_not_pretrained.pt’ saved [44804557/44804557]\n",
            "\n"
          ]
        }
      ],
      "source": [
        "#download model \n",
        "!wget --load-cookies /tmp/cookies.txt \"https://docs.google.com/uc?export=download&confirm=$(wget --quiet --save-cookies /tmp/cookies.txt --keep-session-cookies --no-check-certificate 'https://docs.google.com/uc?export=download&id=1-3LLcZoLYSocA6Wq7HWN2RW032P7QcDJ' -O- | sed -rn 's/.*confirm=([0-9A-Za-z_]+).*/\\1\\n/p')&id=1-3LLcZoLYSocA6Wq7HWN2RW032P7QcDJ\" -O logs_resnet/best_model_not_pretrained.pt && rm -rf /tmp/cookies.txt"
      ]
    },
    {
      "cell_type": "code",
      "execution_count": 30,
      "metadata": {
        "id": "iU6pNpqEKQn1"
      },
      "outputs": [],
      "source": [
        "checkpoint = torch.load('logs_resnet/best_model_not_pretrained.pt')\n",
        "resnet_not_pretrained_model.load_state_dict(checkpoint)\n",
        "resnet_model_not_pretrained=resnet_not_pretrained_model.to(device)"
      ]
    },
    {
      "cell_type": "code",
      "execution_count": 31,
      "metadata": {
        "colab": {
          "base_uri": "https://localhost:8080/"
        },
        "id": "CYGuwPrkKhXp",
        "outputId": "1893aa39-0b00-4811-ce41-0df616d460db"
      },
      "outputs": [
        {
          "name": "stderr",
          "output_type": "stream",
          "text": [
            "/usr/local/lib/python3.7/dist-packages/torch/utils/data/dataloader.py:481: UserWarning: This DataLoader will create 4 worker processes in total. Our suggested max number of worker in current system is 2, which is smaller than what this DataLoader is going to create. Please be aware that excessive worker creation might get DataLoader running slow or even freeze, lower the worker number to avoid potential slowness/freeze if necessary.\n",
            "  cpuset_checked))\n"
          ]
        },
        {
          "name": "stdout",
          "output_type": "stream",
          "text": [
            "validation accuracy 0.8087606837606838\n"
          ]
        }
      ],
      "source": [
        "#check the validation accuracy\n",
        "val_correct=0\n",
        "with torch.no_grad():\n",
        "  resnet_model_not_pretrained.eval()\n",
        "  for (x, y) in val_loader:\n",
        "    x = x.to(device)\n",
        "    pred = resnet_model_not_pretrained(x)\n",
        "    val_correct += (pred.argmax(1).to(device) == y.to(device)).type(torch.float).sum().item()\n",
        "\n",
        "val_correct = val_correct / len(val_loader.dataset)\n",
        "print('validation accuracy',val_correct)\n"
      ]
    },
    {
      "cell_type": "code",
      "execution_count": 32,
      "metadata": {
        "colab": {
          "base_uri": "https://localhost:8080/"
        },
        "id": "vZKo2LTkKwdG",
        "outputId": "7b473b53-e14a-49c5-ab72-cbc8179f1bc3"
      },
      "outputs": [
        {
          "name": "stderr",
          "output_type": "stream",
          "text": [
            "/usr/local/lib/python3.7/dist-packages/torch/utils/data/dataloader.py:481: UserWarning: This DataLoader will create 4 worker processes in total. Our suggested max number of worker in current system is 2, which is smaller than what this DataLoader is going to create. Please be aware that excessive worker creation might get DataLoader running slow or even freeze, lower the worker number to avoid potential slowness/freeze if necessary.\n",
            "  cpuset_checked))\n"
          ]
        },
        {
          "name": "stdout",
          "output_type": "stream",
          "text": [
            "Test accuracy 0.8196296296296296\n"
          ]
        }
      ],
      "source": [
        "#check test accuracy\n",
        "test_correct=0\n",
        "import torchvision.transforms.functional as TF\n",
        "prediction = []\n",
        "\t\n",
        "with torch.no_grad():\n",
        "\tresnet_model_not_pretrained.eval()\n",
        "\tfor (x, y) in test_loader:\n",
        "\t\tx = x.to(device)\n",
        "\t\ty=y.to(device)\n",
        "\t\tpred = resnet_model_not_pretrained(x)\n",
        "\t\tprediction.extend(pred.argmax(axis=1).cpu().numpy())\n",
        "\t\ttest_correct += (pred.argmax(1).to(device) == y.to(device)).type(torch.float).sum().item()\n",
        "\t\t\n",
        "\t\t\t\n",
        "test_correct = test_correct / len(test_loader.dataset)\n",
        "print('Test accuracy',test_correct)\n",
        "\n"
      ]
    },
    {
      "cell_type": "code",
      "execution_count": 33,
      "metadata": {
        "colab": {
          "base_uri": "https://localhost:8080/"
        },
        "id": "-FZlswhBNbMK",
        "outputId": "5c946e0c-a5de-4ac1-9bf0-efb74b010ca4"
      },
      "outputs": [
        {
          "name": "stdout",
          "output_type": "stream",
          "text": [
            "              precision    recall  f1-score   support\n",
            "\n",
            "           0       0.92      0.70      0.80       600\n",
            "           1       0.96      0.95      0.95       600\n",
            "           2       0.63      0.83      0.72       600\n",
            "           3       0.68      0.77      0.72       500\n",
            "           4       0.93      0.89      0.91       500\n",
            "           5       0.79      0.80      0.79       400\n",
            "           6       0.76      0.48      0.59       500\n",
            "           7       0.91      0.93      0.92       600\n",
            "           8       0.71      0.88      0.79       500\n",
            "           9       0.97      0.92      0.94       600\n",
            "\n",
            "    accuracy                           0.82      5400\n",
            "   macro avg       0.83      0.81      0.81      5400\n",
            "weighted avg       0.83      0.82      0.82      5400\n",
            "\n"
          ]
        }
      ],
      "source": [
        "#classification report on test dataset\n",
        "labels= [val[1] for val in test_set]\n",
        "\n",
        "print(classification_report(np.array(labels),np.array(prediction)))"
      ]
    },
    {
      "cell_type": "code",
      "execution_count": 34,
      "metadata": {
        "colab": {
          "base_uri": "https://localhost:8080/",
          "height": 297
        },
        "id": "-qBlvPXzNhtl",
        "outputId": "143b5e9f-394b-43cf-ed51-0b80d05d5eb0"
      },
      "outputs": [
        {
          "data": {
            "text/plain": [
              "<sklearn.metrics._plot.confusion_matrix.ConfusionMatrixDisplay at 0x7f98dbb56490>"
            ]
          },
          "execution_count": 34,
          "metadata": {},
          "output_type": "execute_result"
        },
        {
          "data": {
            "image/png": "[encoded data removed]",
            "text/plain": [
              "<Figure size 432x288 with 2 Axes>"
            ]
          },
          "metadata": {
            "needs_background": "light"
          },
          "output_type": "display_data"
        }
      ],
      "source": [
        "#heatmap for test dataset\n",
        "from sklearn.metrics import confusion_matrix, ConfusionMatrixDisplay\n",
        "cm = confusion_matrix(labels, prediction)\n",
        "disp = ConfusionMatrixDisplay(confusion_matrix=cm)\n",
        "disp.plot()"
      ]
    },
    {
      "cell_type": "code",
      "execution_count": 35,
      "metadata": {
        "id": "6APW0XflPGeo"
      },
      "outputs": [],
      "source": [
        "ids=[i for i in range(len(test_loader.dataset))]\n",
        "my_submission = pd.DataFrame({'id': ids, 'label': prediction})\n",
        "my_submission.to_csv('submission_task2b.csv', index=False)"
      ]
    },
    {
      "cell_type": "code",
      "execution_count": null,
      "metadata": {
        "id": "H2fKdpEbduiu"
      },
      "outputs": [],
      "source": []
    }
  ],
  "metadata": {
    "accelerator": "GPU",
    "colab": {
      "collapsed_sections": [],
      "name": "resnet_21CS60R39_Krinal_Patel.ipynb",
      "provenance": []
    },
    "kernelspec": {
      "display_name": "Python 3",
      "language": "python",
      "name": "python3"
    },
    "language_info": {
      "codemirror_mode": {
        "name": "ipython",
        "version": 3
      },
      "file_extension": ".py",
      "mimetype": "text/x-python",
      "name": "python",
      "nbconvert_exporter": "python",
      "pygments_lexer": "ipython3",
      "version": "3.7.12"
    },
    "widgets": {
      "application/vnd.jupyter.widget-state+json": {
        "14909dd3d12349fcab254143f2b337a5": {
          "model_module": "@jupyter-widgets/controls",
          "model_module_version": "1.5.0",
          "model_name": "HTMLModel",
          "state": {
            "_dom_classes": [],
            "_model_module": "@jupyter-widgets/controls",
            "_model_module_version": "1.5.0",
            "_model_name": "HTMLModel",
            "_view_count": null,
            "_view_module": "@jupyter-widgets/controls",
            "_view_module_version": "1.5.0",
            "_view_name": "HTMLView",
            "description": "",
            "description_tooltip": null,
            "layout": "IPY_MODEL_d60f3498d0e24517849342e178a13ed2",
            "placeholder": "​",
            "style": "IPY_MODEL_79933f69efb144d68b1a4dbf9c48b140",
            "value": "100%"
          }
        },
        "36b71aa851484c6da25d1475cbda7d8e": {
          "model_module": "@jupyter-widgets/base",
          "model_module_version": "1.2.0",
          "model_name": "LayoutModel",
          "state": {
            "_model_module": "@jupyter-widgets/base",
            "_model_module_version": "1.2.0",
            "_model_name": "LayoutModel",
            "_view_count": null,
            "_view_module": "@jupyter-widgets/base",
            "_view_module_version": "1.2.0",
            "_view_name": "LayoutView",
            "align_content": null,
            "align_items": null,
            "align_self": null,
            "border": null,
            "bottom": null,
            "display": null,
            "flex": null,
            "flex_flow": null,
            "grid_area": null,
            "grid_auto_columns": null,
            "grid_auto_flow": null,
            "grid_auto_rows": null,
            "grid_column": null,
            "grid_gap": null,
            "grid_row": null,
            "grid_template_areas": null,
            "grid_template_columns": null,
            "grid_template_rows": null,
            "height": null,
            "justify_content": null,
            "justify_items": null,
            "left": null,
            "margin": null,
            "max_height": null,
            "max_width": null,
            "min_height": null,
            "min_width": null,
            "object_fit": null,
            "object_position": null,
            "order": null,
            "overflow": null,
            "overflow_x": null,
            "overflow_y": null,
            "padding": null,
            "right": null,
            "top": null,
            "visibility": null,
            "width": null
          }
        },
        "3e227614caaa4fadb273320434b457c2": {
          "model_module": "@jupyter-widgets/controls",
          "model_module_version": "1.5.0",
          "model_name": "DescriptionStyleModel",
          "state": {
            "_model_module": "@jupyter-widgets/controls",
            "_model_module_version": "1.5.0",
            "_model_name": "DescriptionStyleModel",
            "_view_count": null,
            "_view_module": "@jupyter-widgets/base",
            "_view_module_version": "1.2.0",
            "_view_name": "StyleView",
            "description_width": ""
          }
        },
        "6e5cf66e6d2948f281d45afc6f5a94f5": {
          "model_module": "@jupyter-widgets/controls",
          "model_module_version": "1.5.0",
          "model_name": "HTMLModel",
          "state": {
            "_dom_classes": [],
            "_model_module": "@jupyter-widgets/controls",
            "_model_module_version": "1.5.0",
            "_model_name": "HTMLModel",
            "_view_count": null,
            "_view_module": "@jupyter-widgets/controls",
            "_view_module_version": "1.5.0",
            "_view_name": "HTMLView",
            "description": "",
            "description_tooltip": null,
            "layout": "IPY_MODEL_9c850ecd62284ea3a223c163b26049c4",
            "placeholder": "​",
            "style": "IPY_MODEL_3e227614caaa4fadb273320434b457c2",
            "value": " 44.7M/44.7M [00:01&lt;00:00, 58.2MB/s]"
          }
        },
        "79933f69efb144d68b1a4dbf9c48b140": {
          "model_module": "@jupyter-widgets/controls",
          "model_module_version": "1.5.0",
          "model_name": "DescriptionStyleModel",
          "state": {
            "_model_module": "@jupyter-widgets/controls",
            "_model_module_version": "1.5.0",
            "_model_name": "DescriptionStyleModel",
            "_view_count": null,
            "_view_module": "@jupyter-widgets/base",
            "_view_module_version": "1.2.0",
            "_view_name": "StyleView",
            "description_width": ""
          }
        },
        "8277de8942e2475d9f63b9cfb97fd789": {
          "model_module": "@jupyter-widgets/controls",
          "model_module_version": "1.5.0",
          "model_name": "FloatProgressModel",
          "state": {
            "_dom_classes": [],
            "_model_module": "@jupyter-widgets/controls",
            "_model_module_version": "1.5.0",
            "_model_name": "FloatProgressModel",
            "_view_count": null,
            "_view_module": "@jupyter-widgets/controls",
            "_view_module_version": "1.5.0",
            "_view_name": "ProgressView",
            "bar_style": "success",
            "description": "",
            "description_tooltip": null,
            "layout": "IPY_MODEL_36b71aa851484c6da25d1475cbda7d8e",
            "max": 46830571,
            "min": 0,
            "orientation": "horizontal",
            "style": "IPY_MODEL_f5e69ccf4f8540ec9b21ab7107344097",
            "value": 46830571
          }
        },
        "9c850ecd62284ea3a223c163b26049c4": {
          "model_module": "@jupyter-widgets/base",
          "model_module_version": "1.2.0",
          "model_name": "LayoutModel",
          "state": {
            "_model_module": "@jupyter-widgets/base",
            "_model_module_version": "1.2.0",
            "_model_name": "LayoutModel",
            "_view_count": null,
            "_view_module": "@jupyter-widgets/base",
            "_view_module_version": "1.2.0",
            "_view_name": "LayoutView",
            "align_content": null,
            "align_items": null,
            "align_self": null,
            "border": null,
            "bottom": null,
            "display": null,
            "flex": null,
            "flex_flow": null,
            "grid_area": null,
            "grid_auto_columns": null,
            "grid_auto_flow": null,
            "grid_auto_rows": null,
            "grid_column": null,
            "grid_gap": null,
            "grid_row": null,
            "grid_template_areas": null,
            "grid_template_columns": null,
            "grid_template_rows": null,
            "height": null,
            "justify_content": null,
            "justify_items": null,
            "left": null,
            "margin": null,
            "max_height": null,
            "max_width": null,
            "min_height": null,
            "min_width": null,
            "object_fit": null,
            "object_position": null,
            "order": null,
            "overflow": null,
            "overflow_x": null,
            "overflow_y": null,
            "padding": null,
            "right": null,
            "top": null,
            "visibility": null,
            "width": null
          }
        },
        "ad1ca10ee54a403b871e914141ad5728": {
          "model_module": "@jupyter-widgets/base",
          "model_module_version": "1.2.0",
          "model_name": "LayoutModel",
          "state": {
            "_model_module": "@jupyter-widgets/base",
            "_model_module_version": "1.2.0",
            "_model_name": "LayoutModel",
            "_view_count": null,
            "_view_module": "@jupyter-widgets/base",
            "_view_module_version": "1.2.0",
            "_view_name": "LayoutView",
            "align_content": null,
            "align_items": null,
            "align_self": null,
            "border": null,
            "bottom": null,
            "display": null,
            "flex": null,
            "flex_flow": null,
            "grid_area": null,
            "grid_auto_columns": null,
            "grid_auto_flow": null,
            "grid_auto_rows": null,
            "grid_column": null,
            "grid_gap": null,
            "grid_row": null,
            "grid_template_areas": null,
            "grid_template_columns": null,
            "grid_template_rows": null,
            "height": null,
            "justify_content": null,
            "justify_items": null,
            "left": null,
            "margin": null,
            "max_height": null,
            "max_width": null,
            "min_height": null,
            "min_width": null,
            "object_fit": null,
            "object_position": null,
            "order": null,
            "overflow": null,
            "overflow_x": null,
            "overflow_y": null,
            "padding": null,
            "right": null,
            "top": null,
            "visibility": null,
            "width": null
          }
        },
        "b383a020efe0417d9fcb5b6a879806d2": {
          "model_module": "@jupyter-widgets/controls",
          "model_module_version": "1.5.0",
          "model_name": "HBoxModel",
          "state": {
            "_dom_classes": [],
            "_model_module": "@jupyter-widgets/controls",
            "_model_module_version": "1.5.0",
            "_model_name": "HBoxModel",
            "_view_count": null,
            "_view_module": "@jupyter-widgets/controls",
            "_view_module_version": "1.5.0",
            "_view_name": "HBoxView",
            "box_style": "",
            "children": [
              "IPY_MODEL_14909dd3d12349fcab254143f2b337a5",
              "IPY_MODEL_8277de8942e2475d9f63b9cfb97fd789",
              "IPY_MODEL_6e5cf66e6d2948f281d45afc6f5a94f5"
            ],
            "layout": "IPY_MODEL_ad1ca10ee54a403b871e914141ad5728"
          }
        },
        "d60f3498d0e24517849342e178a13ed2": {
          "model_module": "@jupyter-widgets/base",
          "model_module_version": "1.2.0",
          "model_name": "LayoutModel",
          "state": {
            "_model_module": "@jupyter-widgets/base",
            "_model_module_version": "1.2.0",
            "_model_name": "LayoutModel",
            "_view_count": null,
            "_view_module": "@jupyter-widgets/base",
            "_view_module_version": "1.2.0",
            "_view_name": "LayoutView",
            "align_content": null,
            "align_items": null,
            "align_self": null,
            "border": null,
            "bottom": null,
            "display": null,
            "flex": null,
            "flex_flow": null,
            "grid_area": null,
            "grid_auto_columns": null,
            "grid_auto_flow": null,
            "grid_auto_rows": null,
            "grid_column": null,
            "grid_gap": null,
            "grid_row": null,
            "grid_template_areas": null,
            "grid_template_columns": null,
            "grid_template_rows": null,
            "height": null,
            "justify_content": null,
            "justify_items": null,
            "left": null,
            "margin": null,
            "max_height": null,
            "max_width": null,
            "min_height": null,
            "min_width": null,
            "object_fit": null,
            "object_position": null,
            "order": null,
            "overflow": null,
            "overflow_x": null,
            "overflow_y": null,
            "padding": null,
            "right": null,
            "top": null,
            "visibility": null,
            "width": null
          }
        },
        "f5e69ccf4f8540ec9b21ab7107344097": {
          "model_module": "@jupyter-widgets/controls",
          "model_module_version": "1.5.0",
          "model_name": "ProgressStyleModel",
          "state": {
            "_model_module": "@jupyter-widgets/controls",
            "_model_module_version": "1.5.0",
            "_model_name": "ProgressStyleModel",
            "_view_count": null,
            "_view_module": "@jupyter-widgets/base",
            "_view_module_version": "1.2.0",
            "_view_name": "StyleView",
            "bar_color": null,
            "description_width": ""
          }
        }
      }
    }
  },
  "nbformat": 4,
  "nbformat_minor": 0
}
